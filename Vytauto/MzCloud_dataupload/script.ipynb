{
 "cells": [
  {
   "cell_type": "code",
   "execution_count": 1,
   "id": "61a1e0f5",
   "metadata": {
    "scrolled": true
   },
   "outputs": [
    {
     "data": {
      "application/vnd.jupyter.widget-view+json": {
       "model_id": "abb9237972324627aee9d02d9b7653c9",
       "version_major": 2,
       "version_minor": 0
      },
      "text/plain": [
       "HBox(children=(VBox(children=(Dropdown(options=('---', '10comp_Vilnius', '20comp_combined', 'AD215802-01', 'AD…"
      ]
     },
     "metadata": {},
     "output_type": "display_data"
    },
    {
     "ename": "ValueError",
     "evalue": "Length of values (75) does not match length of index (1)",
     "output_type": "error",
     "traceback": [
      "\u001b[1;31m---------------------------------------------------------------------------\u001b[0m",
      "\u001b[1;31mValueError\u001b[0m                                Traceback (most recent call last)",
      "\u001b[1;32m~\\OneDrive - Thermo Fisher Scientific\\Desktop\\MzCloud_dataupload\\lib2.py\u001b[0m in \u001b[0;36mprepare_data\u001b[1;34m(unused)\u001b[0m\n\u001b[0;32m    257\u001b[0m     \u001b[1;32mwith\u001b[0m \u001b[0mout1\u001b[0m\u001b[1;33m:\u001b[0m\u001b[1;33m\u001b[0m\u001b[1;33m\u001b[0m\u001b[0m\n\u001b[0;32m    258\u001b[0m         \u001b[0mprint\u001b[0m\u001b[1;33m(\u001b[0m\u001b[1;34m'---Running data collection---'\u001b[0m\u001b[1;33m)\u001b[0m\u001b[1;33m\u001b[0m\u001b[1;33m\u001b[0m\u001b[0m\n\u001b[1;32m--> 259\u001b[1;33m     \u001b[0mmain\u001b[0m\u001b[1;33m[\u001b[0m\u001b[1;34m'data'\u001b[0m\u001b[1;33m]\u001b[0m \u001b[1;33m=\u001b[0m \u001b[0mmake_data_frame\u001b[0m\u001b[1;33m(\u001b[0m\u001b[0mpath\u001b[0m\u001b[1;33m)\u001b[0m\u001b[1;33m\u001b[0m\u001b[1;33m\u001b[0m\u001b[0m\n\u001b[0m\u001b[0;32m    260\u001b[0m     \u001b[0mmols\u001b[0m \u001b[1;33m=\u001b[0m \u001b[0mget_mols\u001b[0m\u001b[1;33m(\u001b[0m\u001b[1;33m)\u001b[0m\u001b[1;33m\u001b[0m\u001b[1;33m\u001b[0m\u001b[0m\n\u001b[0;32m    261\u001b[0m     \u001b[0mmols\u001b[0m \u001b[1;33m=\u001b[0m \u001b[0mlist\u001b[0m\u001b[1;33m(\u001b[0m\u001b[0mmap\u001b[0m\u001b[1;33m(\u001b[0m\u001b[0mremove_salt\u001b[0m\u001b[1;33m,\u001b[0m \u001b[0mmols\u001b[0m\u001b[1;33m)\u001b[0m\u001b[1;33m)\u001b[0m\u001b[1;33m\u001b[0m\u001b[1;33m\u001b[0m\u001b[0m\n",
      "\u001b[1;32m~\\OneDrive - Thermo Fisher Scientific\\Desktop\\MzCloud_dataupload\\lib2.py\u001b[0m in \u001b[0;36mmake_data_frame\u001b[1;34m(target_path)\u001b[0m\n\u001b[0;32m    143\u001b[0m     \u001b[0mdata_frame\u001b[0m \u001b[1;33m=\u001b[0m \u001b[0mget_compound_table\u001b[0m\u001b[1;33m(\u001b[0m\u001b[0mfilters\u001b[0m\u001b[1;33m=\u001b[0m\u001b[0mact_cmp_ids\u001b[0m\u001b[1;33m)\u001b[0m\u001b[1;33m\u001b[0m\u001b[1;33m\u001b[0m\u001b[0m\n\u001b[0;32m    144\u001b[0m     \u001b[0mdata_frame\u001b[0m\u001b[1;33m[\u001b[0m\u001b[1;34m'to_drop'\u001b[0m\u001b[1;33m]\u001b[0m \u001b[1;33m=\u001b[0m \u001b[1;34m\"False\"\u001b[0m\u001b[1;33m\u001b[0m\u001b[1;33m\u001b[0m\u001b[0m\n\u001b[1;32m--> 145\u001b[1;33m     \u001b[0mdata_frame\u001b[0m\u001b[1;33m[\u001b[0m\u001b[1;34m'base_path'\u001b[0m\u001b[1;33m]\u001b[0m \u001b[1;33m=\u001b[0m \u001b[0mact_cmp_paths\u001b[0m\u001b[1;33m\u001b[0m\u001b[1;33m\u001b[0m\u001b[0m\n\u001b[0m\u001b[0;32m    146\u001b[0m     \u001b[1;32mreturn\u001b[0m \u001b[0mdata_frame\u001b[0m\u001b[1;33m[\u001b[0m\u001b[1;33m[\u001b[0m\u001b[1;34m'ID'\u001b[0m\u001b[1;33m,\u001b[0m \u001b[1;34m'Name'\u001b[0m\u001b[1;33m,\u001b[0m \u001b[1;34m'CompClass'\u001b[0m\u001b[1;33m,\u001b[0m \u001b[1;34m'InChiSmiles'\u001b[0m\u001b[1;33m,\u001b[0m \u001b[1;34m'base_path'\u001b[0m\u001b[1;33m,\u001b[0m \u001b[1;34m'to_drop'\u001b[0m\u001b[1;33m]\u001b[0m\u001b[1;33m]\u001b[0m\u001b[1;33m\u001b[0m\u001b[1;33m\u001b[0m\u001b[0m\n\u001b[0;32m    147\u001b[0m \u001b[1;33m\u001b[0m\u001b[0m\n",
      "\u001b[1;32m~\\Miniconda3\\envs\\my-rdkit-env\\lib\\site-packages\\pandas\\core\\frame.py\u001b[0m in \u001b[0;36m__setitem__\u001b[1;34m(self, key, value)\u001b[0m\n\u001b[0;32m   3610\u001b[0m         \u001b[1;32melse\u001b[0m\u001b[1;33m:\u001b[0m\u001b[1;33m\u001b[0m\u001b[1;33m\u001b[0m\u001b[0m\n\u001b[0;32m   3611\u001b[0m             \u001b[1;31m# set column\u001b[0m\u001b[1;33m\u001b[0m\u001b[1;33m\u001b[0m\u001b[1;33m\u001b[0m\u001b[0m\n\u001b[1;32m-> 3612\u001b[1;33m             \u001b[0mself\u001b[0m\u001b[1;33m.\u001b[0m\u001b[0m_set_item\u001b[0m\u001b[1;33m(\u001b[0m\u001b[0mkey\u001b[0m\u001b[1;33m,\u001b[0m \u001b[0mvalue\u001b[0m\u001b[1;33m)\u001b[0m\u001b[1;33m\u001b[0m\u001b[1;33m\u001b[0m\u001b[0m\n\u001b[0m\u001b[0;32m   3613\u001b[0m \u001b[1;33m\u001b[0m\u001b[0m\n\u001b[0;32m   3614\u001b[0m     \u001b[1;32mdef\u001b[0m \u001b[0m_setitem_slice\u001b[0m\u001b[1;33m(\u001b[0m\u001b[0mself\u001b[0m\u001b[1;33m,\u001b[0m \u001b[0mkey\u001b[0m\u001b[1;33m:\u001b[0m \u001b[0mslice\u001b[0m\u001b[1;33m,\u001b[0m \u001b[0mvalue\u001b[0m\u001b[1;33m)\u001b[0m\u001b[1;33m:\u001b[0m\u001b[1;33m\u001b[0m\u001b[1;33m\u001b[0m\u001b[0m\n",
      "\u001b[1;32m~\\Miniconda3\\envs\\my-rdkit-env\\lib\\site-packages\\pandas\\core\\frame.py\u001b[0m in \u001b[0;36m_set_item\u001b[1;34m(self, key, value)\u001b[0m\n\u001b[0;32m   3782\u001b[0m         \u001b[0mensure\u001b[0m \u001b[0mhomogeneity\u001b[0m\u001b[1;33m.\u001b[0m\u001b[1;33m\u001b[0m\u001b[1;33m\u001b[0m\u001b[0m\n\u001b[0;32m   3783\u001b[0m         \"\"\"\n\u001b[1;32m-> 3784\u001b[1;33m         \u001b[0mvalue\u001b[0m \u001b[1;33m=\u001b[0m \u001b[0mself\u001b[0m\u001b[1;33m.\u001b[0m\u001b[0m_sanitize_column\u001b[0m\u001b[1;33m(\u001b[0m\u001b[0mvalue\u001b[0m\u001b[1;33m)\u001b[0m\u001b[1;33m\u001b[0m\u001b[1;33m\u001b[0m\u001b[0m\n\u001b[0m\u001b[0;32m   3785\u001b[0m \u001b[1;33m\u001b[0m\u001b[0m\n\u001b[0;32m   3786\u001b[0m         if (\n",
      "\u001b[1;32m~\\Miniconda3\\envs\\my-rdkit-env\\lib\\site-packages\\pandas\\core\\frame.py\u001b[0m in \u001b[0;36m_sanitize_column\u001b[1;34m(self, value)\u001b[0m\n\u001b[0;32m   4507\u001b[0m \u001b[1;33m\u001b[0m\u001b[0m\n\u001b[0;32m   4508\u001b[0m         \u001b[1;32mif\u001b[0m \u001b[0mis_list_like\u001b[0m\u001b[1;33m(\u001b[0m\u001b[0mvalue\u001b[0m\u001b[1;33m)\u001b[0m\u001b[1;33m:\u001b[0m\u001b[1;33m\u001b[0m\u001b[1;33m\u001b[0m\u001b[0m\n\u001b[1;32m-> 4509\u001b[1;33m             \u001b[0mcom\u001b[0m\u001b[1;33m.\u001b[0m\u001b[0mrequire_length_match\u001b[0m\u001b[1;33m(\u001b[0m\u001b[0mvalue\u001b[0m\u001b[1;33m,\u001b[0m \u001b[0mself\u001b[0m\u001b[1;33m.\u001b[0m\u001b[0mindex\u001b[0m\u001b[1;33m)\u001b[0m\u001b[1;33m\u001b[0m\u001b[1;33m\u001b[0m\u001b[0m\n\u001b[0m\u001b[0;32m   4510\u001b[0m         \u001b[1;32mreturn\u001b[0m \u001b[0msanitize_array\u001b[0m\u001b[1;33m(\u001b[0m\u001b[0mvalue\u001b[0m\u001b[1;33m,\u001b[0m \u001b[0mself\u001b[0m\u001b[1;33m.\u001b[0m\u001b[0mindex\u001b[0m\u001b[1;33m,\u001b[0m \u001b[0mcopy\u001b[0m\u001b[1;33m=\u001b[0m\u001b[1;32mTrue\u001b[0m\u001b[1;33m,\u001b[0m \u001b[0mallow_2d\u001b[0m\u001b[1;33m=\u001b[0m\u001b[1;32mTrue\u001b[0m\u001b[1;33m)\u001b[0m\u001b[1;33m\u001b[0m\u001b[1;33m\u001b[0m\u001b[0m\n\u001b[0;32m   4511\u001b[0m \u001b[1;33m\u001b[0m\u001b[0m\n",
      "\u001b[1;32m~\\Miniconda3\\envs\\my-rdkit-env\\lib\\site-packages\\pandas\\core\\common.py\u001b[0m in \u001b[0;36mrequire_length_match\u001b[1;34m(data, index)\u001b[0m\n\u001b[0;32m    530\u001b[0m     \u001b[1;32mif\u001b[0m \u001b[0mlen\u001b[0m\u001b[1;33m(\u001b[0m\u001b[0mdata\u001b[0m\u001b[1;33m)\u001b[0m \u001b[1;33m!=\u001b[0m \u001b[0mlen\u001b[0m\u001b[1;33m(\u001b[0m\u001b[0mindex\u001b[0m\u001b[1;33m)\u001b[0m\u001b[1;33m:\u001b[0m\u001b[1;33m\u001b[0m\u001b[1;33m\u001b[0m\u001b[0m\n\u001b[0;32m    531\u001b[0m         raise ValueError(\n\u001b[1;32m--> 532\u001b[1;33m             \u001b[1;34m\"Length of values \"\u001b[0m\u001b[1;33m\u001b[0m\u001b[1;33m\u001b[0m\u001b[0m\n\u001b[0m\u001b[0;32m    533\u001b[0m             \u001b[1;34mf\"({len(data)}) \"\u001b[0m\u001b[1;33m\u001b[0m\u001b[1;33m\u001b[0m\u001b[0m\n\u001b[0;32m    534\u001b[0m             \u001b[1;34m\"does not match length of index \"\u001b[0m\u001b[1;33m\u001b[0m\u001b[1;33m\u001b[0m\u001b[0m\n",
      "\u001b[1;31mValueError\u001b[0m: Length of values (75) does not match length of index (1)"
     ]
    },
    {
     "ename": "TypeError",
     "evalue": "argument of type 'float' is not iterable",
     "output_type": "error",
     "traceback": [
      "\u001b[1;31m---------------------------------------------------------------------------\u001b[0m",
      "\u001b[1;31mTypeError\u001b[0m                                 Traceback (most recent call last)",
      "\u001b[1;32m~\\OneDrive - Thermo Fisher Scientific\\Desktop\\MzCloud_dataupload\\lib2.py\u001b[0m in \u001b[0;36mprepare_data\u001b[1;34m(unused)\u001b[0m\n\u001b[0;32m    258\u001b[0m         \u001b[0mprint\u001b[0m\u001b[1;33m(\u001b[0m\u001b[1;34m'---Running data collection---'\u001b[0m\u001b[1;33m)\u001b[0m\u001b[1;33m\u001b[0m\u001b[1;33m\u001b[0m\u001b[0m\n\u001b[0;32m    259\u001b[0m     \u001b[0mmain\u001b[0m\u001b[1;33m[\u001b[0m\u001b[1;34m'data'\u001b[0m\u001b[1;33m]\u001b[0m \u001b[1;33m=\u001b[0m \u001b[0mmake_data_frame\u001b[0m\u001b[1;33m(\u001b[0m\u001b[0mpath\u001b[0m\u001b[1;33m)\u001b[0m\u001b[1;33m\u001b[0m\u001b[1;33m\u001b[0m\u001b[0m\n\u001b[1;32m--> 260\u001b[1;33m     \u001b[0mmols\u001b[0m \u001b[1;33m=\u001b[0m \u001b[0mget_mols\u001b[0m\u001b[1;33m(\u001b[0m\u001b[1;33m)\u001b[0m\u001b[1;33m\u001b[0m\u001b[1;33m\u001b[0m\u001b[0m\n\u001b[0m\u001b[0;32m    261\u001b[0m     \u001b[0mmols\u001b[0m \u001b[1;33m=\u001b[0m \u001b[0mlist\u001b[0m\u001b[1;33m(\u001b[0m\u001b[0mmap\u001b[0m\u001b[1;33m(\u001b[0m\u001b[0mremove_salt\u001b[0m\u001b[1;33m,\u001b[0m \u001b[0mmols\u001b[0m\u001b[1;33m)\u001b[0m\u001b[1;33m)\u001b[0m\u001b[1;33m\u001b[0m\u001b[1;33m\u001b[0m\u001b[0m\n\u001b[0;32m    262\u001b[0m \u001b[1;33m\u001b[0m\u001b[0m\n",
      "\u001b[1;32m~\\OneDrive - Thermo Fisher Scientific\\Desktop\\MzCloud_dataupload\\lib2.py\u001b[0m in \u001b[0;36mget_mols\u001b[1;34m()\u001b[0m\n\u001b[0;32m    111\u001b[0m     \u001b[0mmols\u001b[0m\u001b[1;33m=\u001b[0m\u001b[1;33m[\u001b[0m\u001b[1;33m]\u001b[0m\u001b[1;33m\u001b[0m\u001b[1;33m\u001b[0m\u001b[0m\n\u001b[0;32m    112\u001b[0m     \u001b[1;32mfor\u001b[0m \u001b[0mitem\u001b[0m \u001b[1;32min\u001b[0m \u001b[0mmain\u001b[0m\u001b[1;33m[\u001b[0m\u001b[1;34m'data'\u001b[0m\u001b[1;33m]\u001b[0m\u001b[1;33m.\u001b[0m\u001b[0mInChiSmiles\u001b[0m\u001b[1;33m.\u001b[0m\u001b[0mvalues\u001b[0m\u001b[1;33m:\u001b[0m\u001b[1;33m\u001b[0m\u001b[1;33m\u001b[0m\u001b[0m\n\u001b[1;32m--> 113\u001b[1;33m         \u001b[1;32mif\u001b[0m \u001b[1;34m'InChI'\u001b[0m \u001b[1;32min\u001b[0m \u001b[0mitem\u001b[0m\u001b[1;33m:\u001b[0m\u001b[1;33m\u001b[0m\u001b[1;33m\u001b[0m\u001b[0m\n\u001b[0m\u001b[0;32m    114\u001b[0m             \u001b[0mmol\u001b[0m \u001b[1;33m=\u001b[0m \u001b[0mChem\u001b[0m\u001b[1;33m.\u001b[0m\u001b[0mMolFromInchi\u001b[0m\u001b[1;33m(\u001b[0m\u001b[0mitem\u001b[0m\u001b[1;33m)\u001b[0m\u001b[1;33m\u001b[0m\u001b[1;33m\u001b[0m\u001b[0m\n\u001b[0;32m    115\u001b[0m         \u001b[1;32melse\u001b[0m\u001b[1;33m:\u001b[0m\u001b[1;33m\u001b[0m\u001b[1;33m\u001b[0m\u001b[0m\n",
      "\u001b[1;31mTypeError\u001b[0m: argument of type 'float' is not iterable"
     ]
    }
   ],
   "source": [
    "import lib2"
   ]
  },
  {
   "cell_type": "code",
   "execution_count": 1,
   "id": "a91a9c71",
   "metadata": {},
   "outputs": [
    {
     "data": {
      "application/vnd.jupyter.widget-view+json": {
       "model_id": "fb6bd10b448f47649d69efde44f43b52",
       "version_major": 2,
       "version_minor": 0
      },
      "text/plain": [
       "HBox(children=(VBox(children=(Dropdown(options=('---', '10comp_Vilnius', '20comp_combined', 'AD215802-01', 'AD…"
      ]
     },
     "metadata": {},
     "output_type": "display_data"
    },
    {
     "name": "stdout",
     "output_type": "stream",
     "text": [
      "file written\n"
     ]
    }
   ],
   "source": [
    "import lib2"
   ]
  },
  {
   "cell_type": "code",
   "execution_count": 2,
   "id": "8c1a23db",
   "metadata": {},
   "outputs": [
    {
     "data": {
      "application/vnd.jupyter.widget-view+json": {
       "model_id": "3ad5bbec57604993889d1b4c0e2d31c9",
       "version_major": 2,
       "version_minor": 0
      },
      "text/plain": [
       "VBox(children=(HBox(children=(Text(value='', description='Compund ID'), Button(description='Submit', style=But…"
      ]
     },
     "metadata": {},
     "output_type": "display_data"
    },
    {
     "data": {
      "image/png": "[encoded data removed]",
      "text/plain": [
       "<Figure size 216x216 with 1 Axes>"
      ]
     },
     "metadata": {
      "needs_background": "light"
     },
     "output_type": "display_data"
    }
   ],
   "source": [
    "from ipywidgets import widgets\n",
    "from IPython.display import display, clear_output\n",
    "from rdkit.Chem import Draw\n",
    "\n",
    "text_input = widgets.Text(description='Compund ID')\n",
    "submit_button = widgets.Button(description='Submit')\n",
    "output = widgets.Output()\n",
    "hbox = widgets.HBox([text_input, submit_button])\n",
    "vbox = widgets.VBox([hbox, output])\n",
    "\n",
    "\n",
    "\n",
    "\n",
    "def show_structure():\n",
    "    Id = text_input.value.strip()\n",
    "    data = lib2.main['data']\n",
    "    with output as o:\n",
    "        output.clear_output()\n",
    "        fig = Draw.MolToMPL(data.ROMol.loc[data.ID==Id].values[0])\n",
    "\n",
    "def _on_click(dummy):\n",
    "    show_structure()\n",
    "    \n",
    "    \n",
    "submit_button.on_click(_on_click)\n",
    "display(vbox)"
   ]
  },
  {
   "cell_type": "code",
   "execution_count": 4,
   "id": "35c87c28",
   "metadata": {},
   "outputs": [
    {
     "ename": "NameError",
     "evalue": "name 'cloud' is not defined",
     "output_type": "error",
     "traceback": [
      "\u001b[1;31m---------------------------------------------------------------------------\u001b[0m",
      "\u001b[1;31mNameError\u001b[0m                                 Traceback (most recent call last)",
      "\u001b[1;32mC:\\Users\\VILMAN~1.PED\\AppData\\Local\\Temp/ipykernel_2544/2737887441.py\u001b[0m in \u001b[0;36m<module>\u001b[1;34m\u001b[0m\n\u001b[1;32m----> 1\u001b[1;33m \u001b[0mcloud\u001b[0m \u001b[1;33m==\u001b[0m \u001b[0mpub\u001b[0m\u001b[1;33m\u001b[0m\u001b[1;33m\u001b[0m\u001b[0m\n\u001b[0m",
      "\u001b[1;31mNameError\u001b[0m: name 'cloud' is not defined"
     ]
    }
   ],
   "source": [
    "cloud == pub"
   ]
  },
  {
   "cell_type": "code",
   "execution_count": 5,
   "id": "e92adcf1",
   "metadata": {},
   "outputs": [
    {
     "ename": "NameError",
     "evalue": "name 'cloud' is not defined",
     "output_type": "error",
     "traceback": [
      "\u001b[1;31m---------------------------------------------------------------------------\u001b[0m",
      "\u001b[1;31mNameError\u001b[0m                                 Traceback (most recent call last)",
      "\u001b[1;32mC:\\Users\\VILMAN~1.PED\\AppData\\Local\\Temp/ipykernel_2544/2737887441.py\u001b[0m in \u001b[0;36m<module>\u001b[1;34m\u001b[0m\n\u001b[1;32m----> 1\u001b[1;33m \u001b[0mcloud\u001b[0m \u001b[1;33m==\u001b[0m \u001b[0mpub\u001b[0m\u001b[1;33m\u001b[0m\u001b[1;33m\u001b[0m\u001b[0m\n\u001b[0m",
      "\u001b[1;31mNameError\u001b[0m: name 'cloud' is not defined"
     ]
    }
   ],
   "source": [
    "cloud == pub"
   ]
  },
  {
   "cell_type": "code",
   "execution_count": 6,
   "id": "340becd5",
   "metadata": {},
   "outputs": [
    {
     "ename": "TypeError",
     "evalue": "show_structure() takes 0 positional arguments but 1 was given",
     "output_type": "error",
     "traceback": [
      "\u001b[1;31m---------------------------------------------------------------------------\u001b[0m",
      "\u001b[1;31mTypeError\u001b[0m                                 Traceback (most recent call last)",
      "\u001b[1;32mC:\\Users\\VILMAN~1.PED\\AppData\\Local\\Temp/ipykernel_2544/4271624769.py\u001b[0m in \u001b[0;36m<module>\u001b[1;34m\u001b[0m\n\u001b[1;32m----> 1\u001b[1;33m \u001b[0mshow_structure\u001b[0m\u001b[1;33m(\u001b[0m\u001b[1;34m'NP-019960'\u001b[0m\u001b[1;33m)\u001b[0m\u001b[1;33m\u001b[0m\u001b[1;33m\u001b[0m\u001b[0m\n\u001b[0m",
      "\u001b[1;31mTypeError\u001b[0m: show_structure() takes 0 positional arguments but 1 was given"
     ]
    }
   ],
   "source": [
    "show_structure('NP-019960')"
   ]
  },
  {
   "cell_type": "code",
   "execution_count": null,
   "id": "c6f23eb1",
   "metadata": {},
   "outputs": [],
   "source": []
  },
  {
   "cell_type": "code",
   "execution_count": null,
   "id": "6576fa80",
   "metadata": {},
   "outputs": [],
   "source": []
  },
  {
   "cell_type": "code",
   "execution_count": null,
   "id": "6c70e37c",
   "metadata": {},
   "outputs": [],
   "source": []
  },
  {
   "cell_type": "code",
   "execution_count": null,
   "id": "83ffcf10",
   "metadata": {},
   "outputs": [],
   "source": []
  },
  {
   "cell_type": "code",
   "execution_count": null,
   "id": "4ca479ec",
   "metadata": {},
   "outputs": [],
   "source": []
  },
  {
   "cell_type": "code",
   "execution_count": null,
   "id": "1984bef9",
   "metadata": {},
   "outputs": [],
   "source": []
  },
  {
   "cell_type": "code",
   "execution_count": null,
   "id": "612bb1c7",
   "metadata": {},
   "outputs": [],
   "source": []
  },
  {
   "cell_type": "code",
   "execution_count": null,
   "id": "96813cae",
   "metadata": {},
   "outputs": [],
   "source": []
  },
  {
   "cell_type": "code",
   "execution_count": null,
   "id": "5e8e577d",
   "metadata": {},
   "outputs": [],
   "source": []
  },
  {
   "cell_type": "code",
   "execution_count": null,
   "id": "9cecdda0",
   "metadata": {},
   "outputs": [],
   "source": []
  },
  {
   "cell_type": "code",
   "execution_count": null,
   "id": "630b186a",
   "metadata": {},
   "outputs": [],
   "source": [
    "pub = 'InChI=1S/C9H12N2O5/c12-4-6-5(13)3-8(16-6)11-2-1-7(14)10-9(11)15/h1-2,5-6,8,12-13H,3-4H2,(H,10,14,15)/t5-,6+,8+/m0/s1'"
   ]
  },
  {
   "cell_type": "code",
   "execution_count": null,
   "id": "177d4c8d",
   "metadata": {},
   "outputs": [],
   "source": [
    "cloud = 'InChI=1S/C9H12N2O5/c12-4-6-5(13)3-8(16-6)11-2-1-7(14)10-9(11)15/h1-2,5-6,8,12-13H,3-4H2,(H,10,14,15)/t5-,6+,8+/m0/s1'"
   ]
  },
  {
   "cell_type": "code",
   "execution_count": null,
   "id": "7da1ac37",
   "metadata": {},
   "outputs": [],
   "source": [
    "cloud == pub"
   ]
  },
  {
   "cell_type": "code",
   "execution_count": 3,
   "id": "60c8ef5f",
   "metadata": {},
   "outputs": [
    {
     "ename": "TypeError",
     "evalue": "show_structure() takes 0 positional arguments but 1 was given",
     "output_type": "error",
     "traceback": [
      "\u001b[1;31m---------------------------------------------------------------------------\u001b[0m",
      "\u001b[1;31mTypeError\u001b[0m                                 Traceback (most recent call last)",
      "\u001b[1;32mC:\\Users\\VILMAN~1.PED\\AppData\\Local\\Temp/ipykernel_9608/1677415232.py\u001b[0m in \u001b[0;36m<module>\u001b[1;34m\u001b[0m\n\u001b[1;32m----> 1\u001b[1;33m \u001b[0mshow_structure\u001b[0m\u001b[1;33m(\u001b[0m\u001b[1;34m'AA013'\u001b[0m\u001b[1;33m)\u001b[0m\u001b[1;33m\u001b[0m\u001b[1;33m\u001b[0m\u001b[0m\n\u001b[0m",
      "\u001b[1;31mTypeError\u001b[0m: show_structure() takes 0 positional arguments but 1 was given"
     ]
    }
   ],
   "source": [
    "show_structure('AA013')"
   ]
  },
  {
   "cell_type": "code",
   "execution_count": null,
   "id": "aa6ed869",
   "metadata": {},
   "outputs": [],
   "source": [
    "pub = 'InChI=1S/C10H12N5O6P/c11-8-5-9(13-2-12-8)15(3-14-5)10-6(16)7-4(20-10)1-19-22(17,18)21-7/h2-4,6-7,10,16H,1H2,(H,17,18)(H2,11,12,13)/p-1/t4-,6-,7-,10-/m1/s1'"
   ]
  },
  {
   "cell_type": "code",
   "execution_count": null,
   "id": "2d7218f4",
   "metadata": {},
   "outputs": [],
   "source": [
    "cloud = 'InChI=1S/C10H12N5O6P/c11-8-5-9(13-2-12-8)15(3-14-5)10-6(16)7-4(20-10)1-19-22(17,18)21-7/h2-4,6-7,10,16H,1H2,(H,17,18)(H2,11,12,13)/t4-,6-,7-,10-/m1/s1'"
   ]
  },
  {
   "cell_type": "code",
   "execution_count": null,
   "id": "79ef0c37",
   "metadata": {},
   "outputs": [],
   "source": [
    "cloud == pub"
   ]
  },
  {
   "cell_type": "code",
   "execution_count": null,
   "id": "349769ca",
   "metadata": {},
   "outputs": [],
   "source": [
    "show_structure('AA007')"
   ]
  },
  {
   "cell_type": "code",
   "execution_count": null,
   "id": "27db2588",
   "metadata": {},
   "outputs": [],
   "source": [
    "cloud = 'InChI=1S/C10H14N5O7P/c11-8-5-9(13-2-12-8)15(3-14-5)10-7(17)6(16)4(22-10)1-21-23(18,19)20/h2-4,6-7,10,16-17H,1H2,(H2,11,12,13)(H2,18,19,20)/t4-,6-,7-,10-/m1/s1'"
   ]
  },
  {
   "cell_type": "code",
   "execution_count": null,
   "id": "7fcdb05c",
   "metadata": {},
   "outputs": [],
   "source": [
    "pub = 'InChI=1S/C10H14N5O7P/c11-8-5-9(13-2-12-8)15(3-14-5)10-7(17)6(16)4(22-10)1-21-23(18,19)20/h2-4,6-7,10,16-17H,1H2,(H2,11,12,13)(H2,18,19,20)/t4-,6-,7-,10-/m1/s1'"
   ]
  },
  {
   "cell_type": "code",
   "execution_count": null,
   "id": "ccf6f268",
   "metadata": {},
   "outputs": [],
   "source": [
    "cloud == pub"
   ]
  },
  {
   "cell_type": "code",
   "execution_count": null,
   "id": "d7d1098d",
   "metadata": {},
   "outputs": [],
   "source": [
    "show_structure('AC073')"
   ]
  },
  {
   "cell_type": "code",
   "execution_count": null,
   "id": "215f8de9",
   "metadata": {},
   "outputs": [],
   "source": [
    "pub = 'InChI=1S/C20H24N2O2/c1-3-13-12-22-9-7-14(13)10-19(22)20(23)16-6-8-21-18-5-4-15(24-2)11-17(16)18/h3-6,8,11,13-14,19-20,23H,1,7,9-10,12H2,2H3/t13-,14-,19+,20-/m0/s1'"
   ]
  },
  {
   "cell_type": "code",
   "execution_count": null,
   "id": "24dc88fd",
   "metadata": {},
   "outputs": [],
   "source": [
    "cloud = 'InChI=1S/C20H24N2O2/c1-3-13-12-22-9-7-14(13)10-19(22)20(23)16-6-8-21-18-5-4-15(24-2)11-17(16)18/h3-6,8,11,13-14,19-20,23H,1,7,9-10,12H2,2H3/t13-,14-,19+,20-/m0/s1'"
   ]
  },
  {
   "cell_type": "code",
   "execution_count": null,
   "id": "1a4e63bd",
   "metadata": {},
   "outputs": [],
   "source": [
    "pub == cloud"
   ]
  },
  {
   "cell_type": "code",
   "execution_count": null,
   "id": "55f182a3",
   "metadata": {},
   "outputs": [],
   "source": [
    "internal = 'InChI=1S/C20H24N2O2/c1-3-13-12-22-9-7-14(13)10-19(22)20(23)16-6-8-21-18-5-4-15(24-2)11-17(16)18/h3-6,8,11,13-14,19-20,23H,1,7,9-10,12H2,2H3/t13-,14-,19+,20-/m0/s1'"
   ]
  },
  {
   "cell_type": "code",
   "execution_count": null,
   "id": "d72c752a",
   "metadata": {},
   "outputs": [],
   "source": [
    "pub == internal"
   ]
  },
  {
   "cell_type": "code",
   "execution_count": null,
   "id": "dd5f3880",
   "metadata": {},
   "outputs": [],
   "source": [
    "spider = 'InChI=1S/C20H24N2O2/c1-3-13-12-22-9-7-14(13)10-19(22)20(23)16-6-8-21-18-5-4-15(24-2)11-17(16)18/h3-6,8,11,13-14,19-20,23H,1,7,9-10,12H2,2H3/t13-,14-,19+,20-/m0/s1'"
   ]
  },
  {
   "cell_type": "code",
   "execution_count": null,
   "id": "aa95c3db",
   "metadata": {},
   "outputs": [],
   "source": [
    "pub == spider"
   ]
  },
  {
   "cell_type": "code",
   "execution_count": null,
   "id": "97eacb30",
   "metadata": {},
   "outputs": [],
   "source": [
    "cloud = 'InChI=1S/C20H34O/c1-17(2)11-9-14-19(5)13-7-8-15-20(6,21)16-10-12-18(3)4/h8,11-13,15,21H,7,9-10,14,16H2,1-6H3/b15-8?,19-13+'"
   ]
  },
  {
   "cell_type": "code",
   "execution_count": null,
   "id": "40661c39",
   "metadata": {},
   "outputs": [],
   "source": [
    "show_structure('AB090')"
   ]
  },
  {
   "cell_type": "code",
   "execution_count": null,
   "id": "e854c2c5",
   "metadata": {},
   "outputs": [],
   "source": []
  },
  {
   "cell_type": "code",
   "execution_count": null,
   "id": "b0d1c2d0",
   "metadata": {},
   "outputs": [],
   "source": []
  },
  {
   "cell_type": "code",
   "execution_count": null,
   "id": "d6e7d490",
   "metadata": {},
   "outputs": [],
   "source": []
  },
  {
   "cell_type": "code",
   "execution_count": null,
   "id": "3a0b2be3",
   "metadata": {},
   "outputs": [],
   "source": [
    "cloud = 'InChI=1S/C20H34O/c1-17(2)11-9-14-19(5)13-7-8-15-20(6,21)16-10-12-18(3)4/h8,11-13,15,21H,7,9-10,14,16H2,1-6H3/b15-8?,19-13+"
   ]
  },
  {
   "cell_type": "code",
   "execution_count": null,
   "id": "515e064f",
   "metadata": {},
   "outputs": [],
   "source": [
    "pub = 'InChI=1S/C20H34O/c1-7-20(6,21)16-10-15-19(5)14-9-13-18(4)12-8-11-17(2)3/h7,11,13,15,21H,1,8-10,12,14,16H2,2-6H3/b18-13+,19-15+'"
   ]
  },
  {
   "cell_type": "code",
   "execution_count": null,
   "id": "e30b3710",
   "metadata": {},
   "outputs": [],
   "source": [
    "cloud == pub"
   ]
  },
  {
   "cell_type": "code",
   "execution_count": null,
   "id": "55615e24",
   "metadata": {},
   "outputs": [],
   "source": [
    "show_structure('AA080')"
   ]
  },
  {
   "cell_type": "code",
   "execution_count": null,
   "id": "5a412edf",
   "metadata": {},
   "outputs": [],
   "source": [
    "cloud = 'InChI=1S/C9H17NO4/c1-7(11)14-8(5-9(12)13)6-10(2,3)4/h8H,5-6H2,1-4H3'"
   ]
  },
  {
   "cell_type": "code",
   "execution_count": null,
   "id": "5c1b061b",
   "metadata": {},
   "outputs": [],
   "source": [
    "cloud = 'InChI=1S/C9H17NO4/c1-7(11)14-8(5-9(12)13)6-10(2,3)4/h8H,5-6H2,1-4H3'"
   ]
  },
  {
   "cell_type": "code",
   "execution_count": null,
   "id": "06193cc0",
   "metadata": {},
   "outputs": [],
   "source": [
    "cloud = 'InChI=1S/C9H17NO4/c1-7(11)14-8(5-9(12)13)6-10(2,3)4/h8H,5-6H2,1-4H3'"
   ]
  },
  {
   "cell_type": "code",
   "execution_count": null,
   "id": "c3f00952",
   "metadata": {},
   "outputs": [],
   "source": [
    "pub = 'InChI=1S/C9H17NO4/c1-7(11)14-8(5-9(12)13)6-10(2,3)4/h8H,5-6H2,1-4H3/t8-/m1/s1'"
   ]
  },
  {
   "cell_type": "code",
   "execution_count": null,
   "id": "e83e9bc3",
   "metadata": {},
   "outputs": [],
   "source": [
    "cloud == pub"
   ]
  },
  {
   "cell_type": "code",
   "execution_count": null,
   "id": "991c70e8",
   "metadata": {},
   "outputs": [],
   "source": [
    "show_structure('AA067')"
   ]
  },
  {
   "cell_type": "code",
   "execution_count": null,
   "id": "061a31ba",
   "metadata": {},
   "outputs": [],
   "source": [
    "pub = '\tInChI=1S/C9H13N2O8P/c12-5-3-8(11-2-1-7(13)10-9(11)14)19-6(5)4-18-20(15,16)17/h1-2,5-6,8,12H,3-4H2,(H,10,13,14)(H2,15,16,17)/t5-,6+,8+/m0/s1'"
   ]
  },
  {
   "cell_type": "code",
   "execution_count": null,
   "id": "24155245",
   "metadata": {},
   "outputs": [],
   "source": [
    "cloud = '\tInChI=1S/C9H13N2O8P/c12-5-3-8(11-2-1-7(13)10-9(11)14)19-6(5)4-18-20(15,16)17/h1-2,5-6,8,12H,3-4H2,(H,10,13,14)(H2,15,16,17)/t5-,6+,8+/m0/s1'"
   ]
  },
  {
   "cell_type": "code",
   "execution_count": null,
   "id": "a812998d",
   "metadata": {},
   "outputs": [],
   "source": [
    "pub = 'InChI=1S/C9H13N2O9P/c12-5-1-2-11(9(15)10-5)8-7(14)6(13)4(20-8)3-19-21(16,17)18/h1-2,4,6-8,13-14H,3H2,(H,10,12,15)(H2,16,17,18)\n",
    "\n",
    "'"
   ]
  },
  {
   "cell_type": "code",
   "execution_count": null,
   "id": "0c8f0b94",
   "metadata": {},
   "outputs": [],
   "source": [
    "cloud == pub"
   ]
  },
  {
   "cell_type": "code",
   "execution_count": null,
   "id": "5a033734",
   "metadata": {},
   "outputs": [],
   "source": [
    "show_structure('AA064')"
   ]
  },
  {
   "cell_type": "code",
   "execution_count": null,
   "id": "2c0d587d",
   "metadata": {},
   "outputs": [],
   "source": [
    "cloud = ('InChI=1S/C11H12N2O2/c12-9(11(14)15)5-7-6-13-10-4-2-1-3-8(7)10/h1-4,6,9,13H,5,12H2,(H,14,15)/t9-/m0/s1\t')"
   ]
  },
  {
   "cell_type": "code",
   "execution_count": null,
   "id": "3b2272a7",
   "metadata": {},
   "outputs": [],
   "source": [
    "pub = 'InChI=1S/C11H12N2O2/c12-9(11(14)15)5-7-6-13-10-4-2-1-3-8(7)10/h1-4,6,9,13H,5,12H2,(H,14,15)/t9-/m0/s1\n",
    "\n",
    "'"
   ]
  },
  {
   "cell_type": "code",
   "execution_count": null,
   "id": "095c4335",
   "metadata": {},
   "outputs": [],
   "source": [
    "pub == cloud"
   ]
  },
  {
   "cell_type": "code",
   "execution_count": null,
   "id": "22a52223",
   "metadata": {},
   "outputs": [],
   "source": [
    "show_structure('AA061')"
   ]
  },
  {
   "cell_type": "code",
   "execution_count": null,
   "id": "56516f49",
   "metadata": {},
   "outputs": [],
   "source": [
    "show_structure('AA061')"
   ]
  },
  {
   "cell_type": "code",
   "execution_count": null,
   "id": "3a70500f",
   "metadata": {},
   "outputs": [],
   "source": [
    "show_structure('AA061')"
   ]
  },
  {
   "cell_type": "code",
   "execution_count": null,
   "id": "913bbe0a",
   "metadata": {},
   "outputs": [],
   "source": [
    "pub = 'InChI=1S/C12H18N4O7P2S/c1-8-11(3-4-22-25(20,21)23-24(17,18)19)26-7-16(8)6-10-5-14-9(2)15-12(10)13/h5,7H,3-4,6H2,1-2H3,(H4-,13,14,15,17,18,19,20,21)/p+1'"
   ]
  },
  {
   "cell_type": "code",
   "execution_count": null,
   "id": "72c9d247",
   "metadata": {},
   "outputs": [],
   "source": [
    "cloud = '\tInChI=1S/C12H17N4O4PS/c1-8-11(3-4-20-21(17,18)19)22-7-16(8)6-10-5-14-9(2)15-12(10)13/h5,7H,3-4,6H2,1-2H3,(H3-,13,14,15,17,18,19)/p+1'"
   ]
  },
  {
   "cell_type": "code",
   "execution_count": null,
   "id": "27792249",
   "metadata": {},
   "outputs": [],
   "source": [
    "pub"
   ]
  },
  {
   "cell_type": "code",
   "execution_count": null,
   "id": "3a6da22e",
   "metadata": {},
   "outputs": [],
   "source": [
    "pub == cloud"
   ]
  },
  {
   "cell_type": "code",
   "execution_count": null,
   "id": "2177edb0",
   "metadata": {},
   "outputs": [],
   "source": [
    "cloud == pub"
   ]
  },
  {
   "cell_type": "code",
   "execution_count": null,
   "id": "54bba6d4",
   "metadata": {},
   "outputs": [],
   "source": [
    "pub = 'InChI=1S/C12H18N4O7P2S/c1-8-11(3-4-22-25(20,21)23-24(17,18)19)26-7-16(8)6-10-5-14-9(2)15-12(10)13/h5,7H,3-4,6H2,1-2H3,(H4-,13,14,15,17,18,19,20,21)/p+1'"
   ]
  },
  {
   "cell_type": "code",
   "execution_count": null,
   "id": "a228c27e",
   "metadata": {},
   "outputs": [],
   "source": [
    "cloud = '\tInChI=1S/C12H17N4O4PS/c1-8-11(3-4-20-21(17,18)19)22-7-16(8)6-10-5-14-9(2)15-12(10)13/h5,7H,3-4,6H2,1-2H3,(H3-,13,14,15,17,18,19)/p+1'"
   ]
  },
  {
   "cell_type": "code",
   "execution_count": null,
   "id": "cd5f8330",
   "metadata": {},
   "outputs": [],
   "source": [
    "cloud == pub"
   ]
  },
  {
   "cell_type": "code",
   "execution_count": null,
   "id": "eb281439",
   "metadata": {},
   "outputs": [],
   "source": [
    "show_structure('AA045')"
   ]
  },
  {
   "cell_type": "code",
   "execution_count": null,
   "id": "806fb218",
   "metadata": {},
   "outputs": [],
   "source": [
    "cloud = '\tInChI=1S/C7H14N2O3/c1-5(10)9-6(7(11)12)3-2-4-8/h6H,2-4,8H2,1H3,(H,9,10)(H,11,12)/t6-/m0/s1'"
   ]
  },
  {
   "cell_type": "code",
   "execution_count": null,
   "id": "f31381e1",
   "metadata": {},
   "outputs": [],
   "source": [
    "pub = 'InChI=1S/C7H14N2O3/c1-5(10)9-6(2-3-8)4-7(11)12/h6H,2-4,8H2,1H3,(H,9,10)(H,11,12)'"
   ]
  },
  {
   "cell_type": "code",
   "execution_count": null,
   "id": "69a147a7",
   "metadata": {},
   "outputs": [],
   "source": [
    "cloud == pub"
   ]
  },
  {
   "cell_type": "code",
   "execution_count": null,
   "id": "609b27b7",
   "metadata": {},
   "outputs": [],
   "source": [
    "show_structure('AA038')"
   ]
  },
  {
   "cell_type": "code",
   "execution_count": null,
   "id": "44473ecb",
   "metadata": {},
   "outputs": [],
   "source": [
    "pub = 'InChI=1S/C10H12N4O5/c15-1-4-6(16)7(17)10(19-4)14-3-13-5-8(14)11-2-12-9(5)18/h2-4,6-7,10,15-17H,1H2,(H,11,12,18)/t4-,6-,7-,10-/m1/s1'"
   ]
  },
  {
   "cell_type": "code",
   "execution_count": null,
   "id": "00b210ef",
   "metadata": {},
   "outputs": [],
   "source": [
    "cloud = 'InChI=1S/C10H12N4O5/c15-1-4-6(16)7(17)10(19-4)14-3-13-5-8(14)11-2-12-9(5)18/h2-4,6-7,10,15-17H,1H2,(H,11,12,18)/t4-,6-,7-,10-/m1/s1'"
   ]
  },
  {
   "cell_type": "code",
   "execution_count": null,
   "id": "9f49bf7e",
   "metadata": {},
   "outputs": [],
   "source": [
    "cloud == pub"
   ]
  },
  {
   "cell_type": "code",
   "execution_count": null,
   "id": "36c97206",
   "metadata": {},
   "outputs": [],
   "source": [
    "show_structure('AA034')"
   ]
  },
  {
   "cell_type": "code",
   "execution_count": null,
   "id": "7b0ede7c",
   "metadata": {},
   "outputs": [],
   "source": [
    "pub = 'InChI=1S/C10H13N5O5/c11-10-13-7-4(8(19)14-10)12-2-15(7)9-6(18)5(17)3(1-16)20-9/h2-3,5-6,9,16-18H,1H2,(H3,11,13,14,19)/t3-,5-,6-,9-/m1/s1'"
   ]
  },
  {
   "cell_type": "code",
   "execution_count": null,
   "id": "9d66de30",
   "metadata": {},
   "outputs": [],
   "source": [
    "cloud = '\tInChI=1S/C10H13N5O5/c11-10-13-7-4(8(19)14-10)12-2-15(7)9-6(18)5(17)3(1-16)20-9/h2-3,5-6,9,16-18H,1H2,(H3,11,13,14,19)/t3-,5-,6-,9-/m1/s1'"
   ]
  },
  {
   "cell_type": "code",
   "execution_count": null,
   "id": "42e4db1e",
   "metadata": {},
   "outputs": [],
   "source": [
    "cloud == pub"
   ]
  },
  {
   "cell_type": "code",
   "execution_count": null,
   "id": "5446e673",
   "metadata": {},
   "outputs": [],
   "source": [
    "show_structure('AA030')"
   ]
  },
  {
   "cell_type": "code",
   "execution_count": null,
   "id": "5bb01daf",
   "metadata": {},
   "outputs": [],
   "source": [
    "pub = 'InChI=1S/C20H32N6O12S2/c21-9(19(35)36)1-3-13(27)25-11(17(33)23-5-15(29)30)7-39-40-8-12(18(34)24-6-16(31)32)26-14(28)4-2-10(22)20(37)38/h9-12H,1-8,21-22H2,(H,23,33)(H,24,34)(H,25,27)(H,26,28)(H,29,30)(H,31,32)(H,35,36)(H,37,38)'"
   ]
  },
  {
   "cell_type": "code",
   "execution_count": null,
   "id": "ec41854a",
   "metadata": {},
   "outputs": [],
   "source": [
    "cloud = '\tInChI=1S/C20H32N6O12S2/c21-9(19(35)36)1-3-13(27)25-11(17(33)23-5-15(29)30)7-39-40-8-12(18(34)24-6-16(31)32)26-14(28)4-2-10(22)20(37)38/h9-12H,1-8,21-22H2,(H,23,33)(H,24,34)(H,25,27)(H,26,28)(H,29,30)(H,31,32)(H,35,36)(H,37,38)'"
   ]
  },
  {
   "cell_type": "code",
   "execution_count": null,
   "id": "91707270",
   "metadata": {},
   "outputs": [],
   "source": [
    "cloud == pub"
   ]
  },
  {
   "cell_type": "code",
   "execution_count": null,
   "id": "bd2d2eff",
   "metadata": {},
   "outputs": [],
   "source": [
    "show_structure('AA029')"
   ]
  },
  {
   "cell_type": "code",
   "execution_count": null,
   "id": "f2df4e87",
   "metadata": {},
   "outputs": [],
   "source": [
    "pub = 'InChI=1S/C13H14N2O/c1-9(14)13(16)15-12-8-4-6-10-5-2-3-7-11(10)12/h2-9H,14H2,1H3,(H,15,16)/t9-/m0/s1'"
   ]
  },
  {
   "cell_type": "code",
   "execution_count": null,
   "id": "561569eb",
   "metadata": {},
   "outputs": [],
   "source": [
    "cloud = 'InChI=1S/C13H14N2O/c1-9(14)13(16)15-12-8-4-6-10-5-2-3-7-11(10)12/h2-9H,14H2,1H3,(H,15,16)/t9-/m0/s1'"
   ]
  },
  {
   "cell_type": "code",
   "execution_count": null,
   "id": "53e157c5",
   "metadata": {},
   "outputs": [],
   "source": [
    "cloud == pub"
   ]
  },
  {
   "cell_type": "code",
   "execution_count": null,
   "id": "6f1c2dee",
   "metadata": {},
   "outputs": [],
   "source": [
    "show_structure('AB079')"
   ]
  },
  {
   "cell_type": "code",
   "execution_count": null,
   "id": "3067a913",
   "metadata": {},
   "outputs": [],
   "source": [
    "cloud = 'InChI=1S/C15H12N2O2/c18-13-15(17-14(19)16-13,11-7-3-1-4-8-11)12-9-5-2-6-10-12/h1-10H,(H2,16,17,18,19)'"
   ]
  },
  {
   "cell_type": "code",
   "execution_count": null,
   "id": "c6da6f21",
   "metadata": {},
   "outputs": [],
   "source": [
    "pub = 'InChI=1S/C15H12N2O2/c18-13-15(17-14(19)16-13,11-7-3-1-4-8-11)12-9-5-2-6-10-12/h1-10H,(H2,16,17,18,19)'"
   ]
  },
  {
   "cell_type": "code",
   "execution_count": null,
   "id": "f0264474",
   "metadata": {},
   "outputs": [],
   "source": [
    "cloud == pub"
   ]
  },
  {
   "cell_type": "code",
   "execution_count": null,
   "id": "06401294",
   "metadata": {},
   "outputs": [],
   "source": [
    "show_structure('AA001')"
   ]
  },
  {
   "cell_type": "code",
   "execution_count": null,
   "id": "8d7db284",
   "metadata": {},
   "outputs": [],
   "source": [
    "cloud ='\tInChI=1S/C6H6O6/c7-4(8)1-3(6(11)12)2-5(9)10/h1H,2H2,(H,7,8)(H,9,10)(H,11,12)/b3-1+'"
   ]
  },
  {
   "cell_type": "code",
   "execution_count": null,
   "id": "257ce087",
   "metadata": {},
   "outputs": [],
   "source": [
    "pub ='InChI=1S/C6H6O6/c7-4(8)1-3(6(11)12)2-5(9)10/h1H,2H2,(H,7,8)(H,9,10)(H,11,12)/b3-1-'"
   ]
  },
  {
   "cell_type": "code",
   "execution_count": null,
   "id": "0c10632d",
   "metadata": {},
   "outputs": [],
   "source": [
    "cloud == pub"
   ]
  },
  {
   "cell_type": "code",
   "execution_count": null,
   "id": "d62dc5cf",
   "metadata": {},
   "outputs": [],
   "source": [
    "show_structure('AD002')"
   ]
  },
  {
   "cell_type": "code",
   "execution_count": null,
   "id": "0b07b940",
   "metadata": {},
   "outputs": [],
   "source": [
    "cloud = 'InChI=1S/C7H12O4/c1-3-10-6(8)5-7(9)11-4-2/h3-5H2,1-2H3'"
   ]
  },
  {
   "cell_type": "code",
   "execution_count": null,
   "id": "55eca0a9",
   "metadata": {},
   "outputs": [],
   "source": [
    "pub = 'InChI=1S/C7H12O4/c1-3-10-6(8)5-7(9)11-4-2/h3-5H2,1-2H3'"
   ]
  },
  {
   "cell_type": "code",
   "execution_count": null,
   "id": "7f6f60f5",
   "metadata": {},
   "outputs": [],
   "source": [
    "cloud == pub"
   ]
  },
  {
   "cell_type": "code",
   "execution_count": null,
   "id": "13c510e0",
   "metadata": {},
   "outputs": [],
   "source": [
    "show_structure('AC055')"
   ]
  },
  {
   "cell_type": "code",
   "execution_count": null,
   "id": "a7db6e4d",
   "metadata": {},
   "outputs": [],
   "source": [
    "pub = 'InChI=1S/C6H5NO2/c8-6(9)5-1-3-7-4-2-5/h1-4H,(H,8,9)'"
   ]
  },
  {
   "cell_type": "code",
   "execution_count": null,
   "id": "a00b37be",
   "metadata": {},
   "outputs": [],
   "source": [
    "cloud = 'InChI=1S/C6H5NO2/c8-6(9)5-1-3-7-4-2-5/h1-4H,(H,8,9)'"
   ]
  },
  {
   "cell_type": "code",
   "execution_count": null,
   "id": "b264b9c8",
   "metadata": {},
   "outputs": [],
   "source": [
    "cloud == pub"
   ]
  },
  {
   "cell_type": "code",
   "execution_count": null,
   "id": "061c3808",
   "metadata": {},
   "outputs": [],
   "source": [
    "show_structure('AB068')"
   ]
  },
  {
   "cell_type": "code",
   "execution_count": null,
   "id": "d8067f9e",
   "metadata": {},
   "outputs": [],
   "source": [
    "cloud = 'InChI=1S/C17H18F3NO/c1-21-12-11-16(13-5-3-2-4-6-13)22-15-9-7-14(8-10-15)17(18,19)20/h2-10,16,21H,11-12H2,1H3'"
   ]
  },
  {
   "cell_type": "code",
   "execution_count": null,
   "id": "8e724cc9",
   "metadata": {},
   "outputs": [],
   "source": [
    "pub = 'InChI=1S/C17H18F3NO/c1-21-12-11-16(13-5-3-2-4-6-13)22-15-9-7-14(8-10-15)17(18,19)20/h2-10,16,21H,11-12H2,1H3'"
   ]
  },
  {
   "cell_type": "code",
   "execution_count": null,
   "id": "0ba07e8c",
   "metadata": {},
   "outputs": [],
   "source": [
    "cloud == pub"
   ]
  },
  {
   "cell_type": "code",
   "execution_count": null,
   "id": "8b494ff1",
   "metadata": {},
   "outputs": [],
   "source": [
    "show_structure('AB064')"
   ]
  },
  {
   "cell_type": "code",
   "execution_count": null,
   "id": "a1e53d1f",
   "metadata": {},
   "outputs": [],
   "source": [
    "pub = 'InChI=1S/C17H20N2O5S/c1-2-3-9-19-14-10-12(17(20)21)11-15(25(18,22)23)16(14)24-13-7-5-4-6-8-13/h4-8,10-11,19H,2-3,9H2,1H3,(H,20,21)(H2,18,22,23)'"
   ]
  },
  {
   "cell_type": "code",
   "execution_count": null,
   "id": "1b0d756b",
   "metadata": {},
   "outputs": [],
   "source": [
    "cloud = 'InChI=1S/C17H20N2O5S/c1-2-3-9-19-14-10-12(17(20)21)11-15(25(18,22)23)16(14)24-13-7-5-4-6-8-13/h4-8,10-11,19H,2-3,9H2,1H3,(H,20,21)(H2,18,22,23)'"
   ]
  },
  {
   "cell_type": "code",
   "execution_count": null,
   "id": "6f7d4dc0",
   "metadata": {},
   "outputs": [],
   "source": [
    "cloud == pub"
   ]
  },
  {
   "cell_type": "code",
   "execution_count": null,
   "id": "c3a19805",
   "metadata": {},
   "outputs": [],
   "source": [
    "show_structure('AB022')"
   ]
  },
  {
   "cell_type": "code",
   "execution_count": null,
   "id": "fcbe646b",
   "metadata": {},
   "outputs": [],
   "source": [
    "pub = 'InChI=1S/C15H26O/c1-6-15(5,16)12-8-11-14(4)10-7-9-13(2)3/h6,9,11,16H,1,7-8,10,12H2,2-5H3/b14-11'"
   ]
  },
  {
   "cell_type": "code",
   "execution_count": null,
   "id": "299752da",
   "metadata": {},
   "outputs": [],
   "source": [
    "cloud = '\tInChI=1S/C15H26O/c1-6-15(5,16)12-8-11-14(4)10-7-9-13(2)3/h6,9,11,16H,1,7-8,10,12H2,2-5H3/b14-11+'"
   ]
  },
  {
   "cell_type": "code",
   "execution_count": null,
   "id": "3e61496e",
   "metadata": {},
   "outputs": [],
   "source": [
    "cloud == pub"
   ]
  },
  {
   "cell_type": "code",
   "execution_count": null,
   "id": "8c9d8d7f",
   "metadata": {},
   "outputs": [],
   "source": [
    "show_structure('AA018')"
   ]
  },
  {
   "cell_type": "code",
   "execution_count": null,
   "id": "fe7fac27",
   "metadata": {},
   "outputs": [],
   "source": [
    "import lib2"
   ]
  },
  {
   "cell_type": "code",
   "execution_count": null,
   "id": "a2d0979f",
   "metadata": {},
   "outputs": [],
   "source": [
    "import lib2"
   ]
  },
  {
   "cell_type": "code",
   "execution_count": null,
   "id": "da3e8d1b",
   "metadata": {},
   "outputs": [],
   "source": [
    "import lib2"
   ]
  },
  {
   "cell_type": "code",
   "execution_count": null,
   "id": "0301000c",
   "metadata": {},
   "outputs": [],
   "source": [
    "import lib2"
   ]
  },
  {
   "cell_type": "code",
   "execution_count": null,
   "id": "da61d92d",
   "metadata": {},
   "outputs": [],
   "source": [
    "import lib2"
   ]
  },
  {
   "cell_type": "code",
   "execution_count": null,
   "id": "2140c541",
   "metadata": {},
   "outputs": [],
   "source": [
    "import lib2"
   ]
  },
  {
   "cell_type": "code",
   "execution_count": null,
   "id": "b6070fe7",
   "metadata": {},
   "outputs": [],
   "source": [
    "import lib2"
   ]
  },
  {
   "cell_type": "code",
   "execution_count": null,
   "id": "74d01abb",
   "metadata": {},
   "outputs": [],
   "source": []
  },
  {
   "cell_type": "code",
   "execution_count": null,
   "id": "f09febae",
   "metadata": {},
   "outputs": [],
   "source": [
    "import lib2"
   ]
  },
  {
   "cell_type": "code",
   "execution_count": null,
   "id": "c940d10d",
   "metadata": {},
   "outputs": [],
   "source": [
    "import lib2"
   ]
  },
  {
   "cell_type": "code",
   "execution_count": null,
   "id": "6e01f338",
   "metadata": {},
   "outputs": [],
   "source": [
    "import lib2"
   ]
  },
  {
   "cell_type": "code",
   "execution_count": null,
   "id": "d0b8a71b",
   "metadata": {},
   "outputs": [],
   "source": [
    "import lib2"
   ]
  },
  {
   "cell_type": "code",
   "execution_count": null,
   "id": "6b5669ef",
   "metadata": {},
   "outputs": [],
   "source": []
  },
  {
   "cell_type": "code",
   "execution_count": null,
   "id": "9e25bca8",
   "metadata": {},
   "outputs": [],
   "source": [
    "import lib2"
   ]
  },
  {
   "cell_type": "code",
   "execution_count": null,
   "id": "26238f11",
   "metadata": {},
   "outputs": [],
   "source": [
    "import lib2"
   ]
  },
  {
   "cell_type": "code",
   "execution_count": null,
   "id": "ca4c35df",
   "metadata": {},
   "outputs": [],
   "source": [
    "import lib2"
   ]
  },
  {
   "cell_type": "code",
   "execution_count": null,
   "id": "afc2b92a",
   "metadata": {},
   "outputs": [],
   "source": [
    "import lib2"
   ]
  },
  {
   "cell_type": "code",
   "execution_count": null,
   "id": "d1eb8186",
   "metadata": {},
   "outputs": [],
   "source": [
    "import lib2"
   ]
  },
  {
   "cell_type": "code",
   "execution_count": null,
   "id": "e2281c1c",
   "metadata": {},
   "outputs": [],
   "source": [
    "import lib2"
   ]
  },
  {
   "cell_type": "code",
   "execution_count": null,
   "id": "0143600d",
   "metadata": {},
   "outputs": [],
   "source": [
    "import lib2"
   ]
  },
  {
   "cell_type": "code",
   "execution_count": null,
   "id": "685e8677",
   "metadata": {},
   "outputs": [],
   "source": [
    "import lib2"
   ]
  },
  {
   "cell_type": "code",
   "execution_count": null,
   "id": "072683df",
   "metadata": {},
   "outputs": [],
   "source": [
    "import lib2"
   ]
  },
  {
   "cell_type": "code",
   "execution_count": null,
   "id": "56a7f19f",
   "metadata": {},
   "outputs": [],
   "source": [
    "import lib2"
   ]
  },
  {
   "cell_type": "code",
   "execution_count": null,
   "id": "50697e9e",
   "metadata": {},
   "outputs": [],
   "source": [
    "import lib2"
   ]
  },
  {
   "cell_type": "code",
   "execution_count": null,
   "id": "cbc4d33d",
   "metadata": {},
   "outputs": [],
   "source": [
    "import lib2"
   ]
  },
  {
   "cell_type": "code",
   "execution_count": null,
   "id": "0153fe73",
   "metadata": {},
   "outputs": [],
   "source": [
    "import lib2"
   ]
  },
  {
   "cell_type": "code",
   "execution_count": null,
   "id": "d3c07b8b",
   "metadata": {},
   "outputs": [],
   "source": [
    "import lib2"
   ]
  },
  {
   "cell_type": "code",
   "execution_count": null,
   "id": "56b1460b",
   "metadata": {},
   "outputs": [],
   "source": [
    "import lib2"
   ]
  },
  {
   "cell_type": "code",
   "execution_count": 1,
   "id": "7f4c8afe",
   "metadata": {},
   "outputs": [
    {
     "data": {
      "application/vnd.jupyter.widget-view+json": {
       "model_id": "c92b9a3408e74bf8b0f1e71f29f7caaf",
       "version_major": 2,
       "version_minor": 0
      },
      "text/plain": [
       "HBox(children=(VBox(children=(Dropdown(options=('---', 'AD215802-01', 'AD215802-02', 'AD215802-03', 'AD215802-…"
      ]
     },
     "metadata": {},
     "output_type": "display_data"
    },
    {
     "ename": "FileNotFoundError",
     "evalue": "[Errno 2] No such file or directory: 'unified_data.xlsx'",
     "output_type": "error",
     "traceback": [
      "\u001b[1;31m---------------------------------------------------------------------------\u001b[0m",
      "\u001b[1;31mFileNotFoundError\u001b[0m                         Traceback (most recent call last)",
      "\u001b[1;32m~\\Desktop\\MzCloud_dataupload\\lib2.py\u001b[0m in \u001b[0;36mprepare_data\u001b[1;34m(unused)\u001b[0m\n\u001b[0;32m    257\u001b[0m     \u001b[1;32mwith\u001b[0m \u001b[0mout1\u001b[0m\u001b[1;33m:\u001b[0m\u001b[1;33m\u001b[0m\u001b[1;33m\u001b[0m\u001b[0m\n\u001b[0;32m    258\u001b[0m         \u001b[0mprint\u001b[0m\u001b[1;33m(\u001b[0m\u001b[1;34m'---Running data collection---'\u001b[0m\u001b[1;33m)\u001b[0m\u001b[1;33m\u001b[0m\u001b[1;33m\u001b[0m\u001b[0m\n\u001b[1;32m--> 259\u001b[1;33m     \u001b[0mmain\u001b[0m\u001b[1;33m[\u001b[0m\u001b[1;34m'data'\u001b[0m\u001b[1;33m]\u001b[0m \u001b[1;33m=\u001b[0m \u001b[0mmake_data_frame\u001b[0m\u001b[1;33m(\u001b[0m\u001b[0mpath\u001b[0m\u001b[1;33m)\u001b[0m\u001b[1;33m\u001b[0m\u001b[1;33m\u001b[0m\u001b[0m\n\u001b[0m\u001b[0;32m    260\u001b[0m     \u001b[0mmols\u001b[0m \u001b[1;33m=\u001b[0m \u001b[0mget_mols\u001b[0m\u001b[1;33m(\u001b[0m\u001b[1;33m)\u001b[0m\u001b[1;33m\u001b[0m\u001b[1;33m\u001b[0m\u001b[0m\n\u001b[0;32m    261\u001b[0m     \u001b[0mmols\u001b[0m \u001b[1;33m=\u001b[0m \u001b[0mlist\u001b[0m\u001b[1;33m(\u001b[0m\u001b[0mmap\u001b[0m\u001b[1;33m(\u001b[0m\u001b[0mremove_salt\u001b[0m\u001b[1;33m,\u001b[0m \u001b[0mmols\u001b[0m\u001b[1;33m)\u001b[0m\u001b[1;33m)\u001b[0m\u001b[1;33m\u001b[0m\u001b[1;33m\u001b[0m\u001b[0m\n",
      "\u001b[1;32m~\\Desktop\\MzCloud_dataupload\\lib2.py\u001b[0m in \u001b[0;36mmake_data_frame\u001b[1;34m(target_path)\u001b[0m\n\u001b[0;32m    141\u001b[0m     \u001b[1;31m# act_cmp_ids = get_actual_compound_ids(act_cmp_paths)\u001b[0m\u001b[1;33m\u001b[0m\u001b[1;33m\u001b[0m\u001b[1;33m\u001b[0m\u001b[0m\n\u001b[0;32m    142\u001b[0m \u001b[1;33m\u001b[0m\u001b[0m\n\u001b[1;32m--> 143\u001b[1;33m     \u001b[0mdata_frame\u001b[0m \u001b[1;33m=\u001b[0m \u001b[0mget_compound_table\u001b[0m\u001b[1;33m(\u001b[0m\u001b[0mfilters\u001b[0m\u001b[1;33m=\u001b[0m\u001b[0mact_cmp_ids\u001b[0m\u001b[1;33m)\u001b[0m\u001b[1;33m\u001b[0m\u001b[1;33m\u001b[0m\u001b[0m\n\u001b[0m\u001b[0;32m    144\u001b[0m     \u001b[0mdata_frame\u001b[0m\u001b[1;33m[\u001b[0m\u001b[1;34m'to_drop'\u001b[0m\u001b[1;33m]\u001b[0m \u001b[1;33m=\u001b[0m \u001b[1;34m\"False\"\u001b[0m\u001b[1;33m\u001b[0m\u001b[1;33m\u001b[0m\u001b[0m\n\u001b[0;32m    145\u001b[0m     \u001b[0mdata_frame\u001b[0m\u001b[1;33m[\u001b[0m\u001b[1;34m'base_path'\u001b[0m\u001b[1;33m]\u001b[0m \u001b[1;33m=\u001b[0m \u001b[0mact_cmp_paths\u001b[0m\u001b[1;33m\u001b[0m\u001b[1;33m\u001b[0m\u001b[0m\n",
      "\u001b[1;32m~\\Desktop\\MzCloud_dataupload\\lib2.py\u001b[0m in \u001b[0;36mget_compound_table\u001b[1;34m(filters)\u001b[0m\n\u001b[0;32m     71\u001b[0m \u001b[1;31m# @debug\u001b[0m\u001b[1;33m\u001b[0m\u001b[1;33m\u001b[0m\u001b[1;33m\u001b[0m\u001b[0m\n\u001b[0;32m     72\u001b[0m \u001b[1;32mdef\u001b[0m \u001b[0mget_compound_table\u001b[0m\u001b[1;33m(\u001b[0m\u001b[0mfilters\u001b[0m\u001b[1;33m:\u001b[0m \u001b[0mList\u001b[0m\u001b[1;33m[\u001b[0m\u001b[0mstr\u001b[0m\u001b[1;33m]\u001b[0m\u001b[1;33m=\u001b[0m\u001b[1;32mNone\u001b[0m\u001b[1;33m)\u001b[0m \u001b[1;33m->\u001b[0m\u001b[0mpd\u001b[0m\u001b[1;33m.\u001b[0m\u001b[0mDataFrame\u001b[0m\u001b[1;33m:\u001b[0m\u001b[1;33m\u001b[0m\u001b[1;33m\u001b[0m\u001b[0m\n\u001b[1;32m---> 73\u001b[1;33m     \u001b[0mcompound_data\u001b[0m \u001b[1;33m=\u001b[0m \u001b[0mpd\u001b[0m\u001b[1;33m.\u001b[0m\u001b[0mread_excel\u001b[0m\u001b[1;33m(\u001b[0m\u001b[0mcompound_list\u001b[0m\u001b[1;33m)\u001b[0m\u001b[1;33m\u001b[0m\u001b[1;33m\u001b[0m\u001b[0m\n\u001b[0m\u001b[0;32m     74\u001b[0m     \u001b[1;32mif\u001b[0m \u001b[0mfilters\u001b[0m\u001b[1;33m:\u001b[0m\u001b[1;33m\u001b[0m\u001b[1;33m\u001b[0m\u001b[0m\n\u001b[0;32m     75\u001b[0m         \u001b[0mcompound_data\u001b[0m \u001b[1;33m=\u001b[0m \u001b[0mcompound_data\u001b[0m\u001b[1;33m.\u001b[0m\u001b[0mloc\u001b[0m\u001b[1;33m[\u001b[0m\u001b[0mcompound_data\u001b[0m\u001b[1;33m.\u001b[0m\u001b[0mID\u001b[0m\u001b[1;33m.\u001b[0m\u001b[0misin\u001b[0m\u001b[1;33m(\u001b[0m\u001b[0mfilters\u001b[0m\u001b[1;33m)\u001b[0m\u001b[1;33m]\u001b[0m\u001b[1;33m.\u001b[0m\u001b[0mcopy\u001b[0m\u001b[1;33m(\u001b[0m\u001b[1;33m)\u001b[0m\u001b[1;33m\u001b[0m\u001b[1;33m\u001b[0m\u001b[0m\n",
      "\u001b[1;32m~\\Miniconda3\\envs\\my-rdkit-env\\lib\\site-packages\\pandas\\util\\_decorators.py\u001b[0m in \u001b[0;36mwrapper\u001b[1;34m(*args, **kwargs)\u001b[0m\n\u001b[0;32m    309\u001b[0m                     \u001b[0mstacklevel\u001b[0m\u001b[1;33m=\u001b[0m\u001b[0mstacklevel\u001b[0m\u001b[1;33m,\u001b[0m\u001b[1;33m\u001b[0m\u001b[1;33m\u001b[0m\u001b[0m\n\u001b[0;32m    310\u001b[0m                 )\n\u001b[1;32m--> 311\u001b[1;33m             \u001b[1;32mreturn\u001b[0m \u001b[0mfunc\u001b[0m\u001b[1;33m(\u001b[0m\u001b[1;33m*\u001b[0m\u001b[0margs\u001b[0m\u001b[1;33m,\u001b[0m \u001b[1;33m**\u001b[0m\u001b[0mkwargs\u001b[0m\u001b[1;33m)\u001b[0m\u001b[1;33m\u001b[0m\u001b[1;33m\u001b[0m\u001b[0m\n\u001b[0m\u001b[0;32m    312\u001b[0m \u001b[1;33m\u001b[0m\u001b[0m\n\u001b[0;32m    313\u001b[0m         \u001b[1;32mreturn\u001b[0m \u001b[0mwrapper\u001b[0m\u001b[1;33m\u001b[0m\u001b[1;33m\u001b[0m\u001b[0m\n",
      "\u001b[1;32m~\\Miniconda3\\envs\\my-rdkit-env\\lib\\site-packages\\pandas\\io\\excel\\_base.py\u001b[0m in \u001b[0;36mread_excel\u001b[1;34m(io, sheet_name, header, names, index_col, usecols, squeeze, dtype, engine, converters, true_values, false_values, skiprows, nrows, na_values, keep_default_na, na_filter, verbose, parse_dates, date_parser, thousands, comment, skipfooter, convert_float, mangle_dupe_cols, storage_options)\u001b[0m\n\u001b[0;32m    362\u001b[0m     \u001b[1;32mif\u001b[0m \u001b[1;32mnot\u001b[0m \u001b[0misinstance\u001b[0m\u001b[1;33m(\u001b[0m\u001b[0mio\u001b[0m\u001b[1;33m,\u001b[0m \u001b[0mExcelFile\u001b[0m\u001b[1;33m)\u001b[0m\u001b[1;33m:\u001b[0m\u001b[1;33m\u001b[0m\u001b[1;33m\u001b[0m\u001b[0m\n\u001b[0;32m    363\u001b[0m         \u001b[0mshould_close\u001b[0m \u001b[1;33m=\u001b[0m \u001b[1;32mTrue\u001b[0m\u001b[1;33m\u001b[0m\u001b[1;33m\u001b[0m\u001b[0m\n\u001b[1;32m--> 364\u001b[1;33m         \u001b[0mio\u001b[0m \u001b[1;33m=\u001b[0m \u001b[0mExcelFile\u001b[0m\u001b[1;33m(\u001b[0m\u001b[0mio\u001b[0m\u001b[1;33m,\u001b[0m \u001b[0mstorage_options\u001b[0m\u001b[1;33m=\u001b[0m\u001b[0mstorage_options\u001b[0m\u001b[1;33m,\u001b[0m \u001b[0mengine\u001b[0m\u001b[1;33m=\u001b[0m\u001b[0mengine\u001b[0m\u001b[1;33m)\u001b[0m\u001b[1;33m\u001b[0m\u001b[1;33m\u001b[0m\u001b[0m\n\u001b[0m\u001b[0;32m    365\u001b[0m     \u001b[1;32melif\u001b[0m \u001b[0mengine\u001b[0m \u001b[1;32mand\u001b[0m \u001b[0mengine\u001b[0m \u001b[1;33m!=\u001b[0m \u001b[0mio\u001b[0m\u001b[1;33m.\u001b[0m\u001b[0mengine\u001b[0m\u001b[1;33m:\u001b[0m\u001b[1;33m\u001b[0m\u001b[1;33m\u001b[0m\u001b[0m\n\u001b[0;32m    366\u001b[0m         raise ValueError(\n",
      "\u001b[1;32m~\\Miniconda3\\envs\\my-rdkit-env\\lib\\site-packages\\pandas\\io\\excel\\_base.py\u001b[0m in \u001b[0;36m__init__\u001b[1;34m(self, path_or_buffer, engine, storage_options)\u001b[0m\n\u001b[0;32m   1190\u001b[0m             \u001b[1;32melse\u001b[0m\u001b[1;33m:\u001b[0m\u001b[1;33m\u001b[0m\u001b[1;33m\u001b[0m\u001b[0m\n\u001b[0;32m   1191\u001b[0m                 ext = inspect_excel_format(\n\u001b[1;32m-> 1192\u001b[1;33m                     \u001b[0mcontent_or_path\u001b[0m\u001b[1;33m=\u001b[0m\u001b[0mpath_or_buffer\u001b[0m\u001b[1;33m,\u001b[0m \u001b[0mstorage_options\u001b[0m\u001b[1;33m=\u001b[0m\u001b[0mstorage_options\u001b[0m\u001b[1;33m\u001b[0m\u001b[1;33m\u001b[0m\u001b[0m\n\u001b[0m\u001b[0;32m   1193\u001b[0m                 )\n\u001b[0;32m   1194\u001b[0m                 \u001b[1;32mif\u001b[0m \u001b[0mext\u001b[0m \u001b[1;32mis\u001b[0m \u001b[1;32mNone\u001b[0m\u001b[1;33m:\u001b[0m\u001b[1;33m\u001b[0m\u001b[1;33m\u001b[0m\u001b[0m\n",
      "\u001b[1;32m~\\Miniconda3\\envs\\my-rdkit-env\\lib\\site-packages\\pandas\\io\\excel\\_base.py\u001b[0m in \u001b[0;36minspect_excel_format\u001b[1;34m(content_or_path, storage_options)\u001b[0m\n\u001b[0;32m   1069\u001b[0m \u001b[1;33m\u001b[0m\u001b[0m\n\u001b[0;32m   1070\u001b[0m     with get_handle(\n\u001b[1;32m-> 1071\u001b[1;33m         \u001b[0mcontent_or_path\u001b[0m\u001b[1;33m,\u001b[0m \u001b[1;34m\"rb\"\u001b[0m\u001b[1;33m,\u001b[0m \u001b[0mstorage_options\u001b[0m\u001b[1;33m=\u001b[0m\u001b[0mstorage_options\u001b[0m\u001b[1;33m,\u001b[0m \u001b[0mis_text\u001b[0m\u001b[1;33m=\u001b[0m\u001b[1;32mFalse\u001b[0m\u001b[1;33m\u001b[0m\u001b[1;33m\u001b[0m\u001b[0m\n\u001b[0m\u001b[0;32m   1072\u001b[0m     ) as handle:\n\u001b[0;32m   1073\u001b[0m         \u001b[0mstream\u001b[0m \u001b[1;33m=\u001b[0m \u001b[0mhandle\u001b[0m\u001b[1;33m.\u001b[0m\u001b[0mhandle\u001b[0m\u001b[1;33m\u001b[0m\u001b[1;33m\u001b[0m\u001b[0m\n",
      "\u001b[1;32m~\\Miniconda3\\envs\\my-rdkit-env\\lib\\site-packages\\pandas\\io\\common.py\u001b[0m in \u001b[0;36mget_handle\u001b[1;34m(path_or_buf, mode, encoding, compression, memory_map, is_text, errors, storage_options)\u001b[0m\n\u001b[0;32m    709\u001b[0m         \u001b[1;32melse\u001b[0m\u001b[1;33m:\u001b[0m\u001b[1;33m\u001b[0m\u001b[1;33m\u001b[0m\u001b[0m\n\u001b[0;32m    710\u001b[0m             \u001b[1;31m# Binary mode\u001b[0m\u001b[1;33m\u001b[0m\u001b[1;33m\u001b[0m\u001b[1;33m\u001b[0m\u001b[0m\n\u001b[1;32m--> 711\u001b[1;33m             \u001b[0mhandle\u001b[0m \u001b[1;33m=\u001b[0m \u001b[0mopen\u001b[0m\u001b[1;33m(\u001b[0m\u001b[0mhandle\u001b[0m\u001b[1;33m,\u001b[0m \u001b[0mioargs\u001b[0m\u001b[1;33m.\u001b[0m\u001b[0mmode\u001b[0m\u001b[1;33m)\u001b[0m\u001b[1;33m\u001b[0m\u001b[1;33m\u001b[0m\u001b[0m\n\u001b[0m\u001b[0;32m    712\u001b[0m         \u001b[0mhandles\u001b[0m\u001b[1;33m.\u001b[0m\u001b[0mappend\u001b[0m\u001b[1;33m(\u001b[0m\u001b[0mhandle\u001b[0m\u001b[1;33m)\u001b[0m\u001b[1;33m\u001b[0m\u001b[1;33m\u001b[0m\u001b[0m\n\u001b[0;32m    713\u001b[0m \u001b[1;33m\u001b[0m\u001b[0m\n",
      "\u001b[1;31mFileNotFoundError\u001b[0m: [Errno 2] No such file or directory: 'unified_data.xlsx'"
     ]
    },
    {
     "name": "stdout",
     "output_type": "stream",
     "text": [
      "file written\n"
     ]
    }
   ],
   "source": [
    "import lib2"
   ]
  },
  {
   "cell_type": "code",
   "execution_count": 1,
   "id": "754e6cd9",
   "metadata": {},
   "outputs": [
    {
     "data": {
      "application/vnd.jupyter.widget-view+json": {
       "model_id": "e988d02218c9448885d716f1de6851dc",
       "version_major": 2,
       "version_minor": 0
      },
      "text/plain": [
       "HBox(children=(VBox(children=(Dropdown(options=('---', 'AD215802-01', 'AD215802-02', 'AD215802-03', 'AD215802-…"
      ]
     },
     "metadata": {},
     "output_type": "display_data"
    },
    {
     "name": "stderr",
     "output_type": "stream",
     "text": [
      "C:\\Users\\vilmantas.pedisius\\Miniconda3\\envs\\my-rdkit-env\\lib\\site-packages\\openpyxl\\worksheet\\_read_only.py:79: UserWarning: Data Validation extension is not supported and will be removed\n",
      "  for idx, row in parser.parse():\n",
      "C:\\Users\\vilmantas.pedisius\\Miniconda3\\envs\\my-rdkit-env\\lib\\site-packages\\openpyxl\\worksheet\\_read_only.py:79: UserWarning: Data Validation extension is not supported and will be removed\n",
      "  for idx, row in parser.parse():\n"
     ]
    }
   ],
   "source": [
    "import lib2"
   ]
  },
  {
   "cell_type": "code",
   "execution_count": 1,
   "id": "8dedeec1",
   "metadata": {},
   "outputs": [
    {
     "data": {
      "application/vnd.jupyter.widget-view+json": {
       "model_id": "461fee4182c6439e83d74baa8ee82a8d",
       "version_major": 2,
       "version_minor": 0
      },
      "text/plain": [
       "HBox(children=(VBox(children=(Dropdown(options=('---', 'AD215802-01', 'AD215802-02', 'AD215802-03', 'AD215802-…"
      ]
     },
     "metadata": {},
     "output_type": "display_data"
    },
    {
     "name": "stderr",
     "output_type": "stream",
     "text": [
      "C:\\Users\\vilmantas.pedisius\\Miniconda3\\envs\\my-rdkit-env\\lib\\site-packages\\openpyxl\\worksheet\\_read_only.py:79: UserWarning: Data Validation extension is not supported and will be removed\n",
      "  for idx, row in parser.parse():\n",
      "C:\\Users\\vilmantas.pedisius\\Miniconda3\\envs\\my-rdkit-env\\lib\\site-packages\\openpyxl\\worksheet\\_read_only.py:79: UserWarning: Data Validation extension is not supported and will be removed\n",
      "  for idx, row in parser.parse():\n",
      "C:\\Users\\vilmantas.pedisius\\Miniconda3\\envs\\my-rdkit-env\\lib\\site-packages\\openpyxl\\worksheet\\_read_only.py:79: UserWarning: Data Validation extension is not supported and will be removed\n",
      "  for idx, row in parser.parse():\n",
      "C:\\Users\\vilmantas.pedisius\\Miniconda3\\envs\\my-rdkit-env\\lib\\site-packages\\openpyxl\\worksheet\\_read_only.py:79: UserWarning: Data Validation extension is not supported and will be removed\n",
      "  for idx, row in parser.parse():\n",
      "C:\\Users\\vilmantas.pedisius\\Miniconda3\\envs\\my-rdkit-env\\lib\\site-packages\\openpyxl\\worksheet\\_read_only.py:79: UserWarning: Data Validation extension is not supported and will be removed\n",
      "  for idx, row in parser.parse():\n"
     ]
    }
   ],
   "source": [
    "import lib2"
   ]
  },
  {
   "cell_type": "code",
   "execution_count": 1,
   "id": "58c1b852",
   "metadata": {},
   "outputs": [
    {
     "data": {
      "application/vnd.jupyter.widget-view+json": {
       "model_id": "582fc964d23f4be48752607ef6b551d2",
       "version_major": 2,
       "version_minor": 0
      },
      "text/plain": [
       "HBox(children=(VBox(children=(Dropdown(options=('---', 'AD215802-01', 'AD215802-02', 'AD215802-03', 'AD215802-…"
      ]
     },
     "metadata": {},
     "output_type": "display_data"
    },
    {
     "name": "stdout",
     "output_type": "stream",
     "text": [
      "file written\n"
     ]
    },
    {
     "ename": "FileNotFoundError",
     "evalue": "[Errno 2] No such file or directory: 'unified_data.xlsx'",
     "output_type": "error",
     "traceback": [
      "\u001b[1;31m---------------------------------------------------------------------------\u001b[0m",
      "\u001b[1;31mFileNotFoundError\u001b[0m                         Traceback (most recent call last)",
      "\u001b[1;32m~\\Desktop\\MzCloud_dataupload\\lib2.py\u001b[0m in \u001b[0;36mprepare_data\u001b[1;34m(unused)\u001b[0m\n\u001b[0;32m    257\u001b[0m     \u001b[1;32mwith\u001b[0m \u001b[0mout1\u001b[0m\u001b[1;33m:\u001b[0m\u001b[1;33m\u001b[0m\u001b[1;33m\u001b[0m\u001b[0m\n\u001b[0;32m    258\u001b[0m         \u001b[0mprint\u001b[0m\u001b[1;33m(\u001b[0m\u001b[1;34m'---Running data collection---'\u001b[0m\u001b[1;33m)\u001b[0m\u001b[1;33m\u001b[0m\u001b[1;33m\u001b[0m\u001b[0m\n\u001b[1;32m--> 259\u001b[1;33m     \u001b[0mmain\u001b[0m\u001b[1;33m[\u001b[0m\u001b[1;34m'data'\u001b[0m\u001b[1;33m]\u001b[0m \u001b[1;33m=\u001b[0m \u001b[0mmake_data_frame\u001b[0m\u001b[1;33m(\u001b[0m\u001b[0mpath\u001b[0m\u001b[1;33m)\u001b[0m\u001b[1;33m\u001b[0m\u001b[1;33m\u001b[0m\u001b[0m\n\u001b[0m\u001b[0;32m    260\u001b[0m     \u001b[0mmols\u001b[0m \u001b[1;33m=\u001b[0m \u001b[0mget_mols\u001b[0m\u001b[1;33m(\u001b[0m\u001b[1;33m)\u001b[0m\u001b[1;33m\u001b[0m\u001b[1;33m\u001b[0m\u001b[0m\n\u001b[0;32m    261\u001b[0m     \u001b[0mmols\u001b[0m \u001b[1;33m=\u001b[0m \u001b[0mlist\u001b[0m\u001b[1;33m(\u001b[0m\u001b[0mmap\u001b[0m\u001b[1;33m(\u001b[0m\u001b[0mremove_salt\u001b[0m\u001b[1;33m,\u001b[0m \u001b[0mmols\u001b[0m\u001b[1;33m)\u001b[0m\u001b[1;33m)\u001b[0m\u001b[1;33m\u001b[0m\u001b[1;33m\u001b[0m\u001b[0m\n",
      "\u001b[1;32m~\\Desktop\\MzCloud_dataupload\\lib2.py\u001b[0m in \u001b[0;36mmake_data_frame\u001b[1;34m(target_path)\u001b[0m\n\u001b[0;32m    141\u001b[0m     \u001b[1;31m# act_cmp_ids = get_actual_compound_ids(act_cmp_paths)\u001b[0m\u001b[1;33m\u001b[0m\u001b[1;33m\u001b[0m\u001b[1;33m\u001b[0m\u001b[0m\n\u001b[0;32m    142\u001b[0m \u001b[1;33m\u001b[0m\u001b[0m\n\u001b[1;32m--> 143\u001b[1;33m     \u001b[0mdata_frame\u001b[0m \u001b[1;33m=\u001b[0m \u001b[0mget_compound_table\u001b[0m\u001b[1;33m(\u001b[0m\u001b[0mfilters\u001b[0m\u001b[1;33m=\u001b[0m\u001b[0mact_cmp_ids\u001b[0m\u001b[1;33m)\u001b[0m\u001b[1;33m\u001b[0m\u001b[1;33m\u001b[0m\u001b[0m\n\u001b[0m\u001b[0;32m    144\u001b[0m     \u001b[0mdata_frame\u001b[0m\u001b[1;33m[\u001b[0m\u001b[1;34m'to_drop'\u001b[0m\u001b[1;33m]\u001b[0m \u001b[1;33m=\u001b[0m \u001b[1;34m\"False\"\u001b[0m\u001b[1;33m\u001b[0m\u001b[1;33m\u001b[0m\u001b[0m\n\u001b[0;32m    145\u001b[0m     \u001b[0mdata_frame\u001b[0m\u001b[1;33m[\u001b[0m\u001b[1;34m'base_path'\u001b[0m\u001b[1;33m]\u001b[0m \u001b[1;33m=\u001b[0m \u001b[0mact_cmp_paths\u001b[0m\u001b[1;33m\u001b[0m\u001b[1;33m\u001b[0m\u001b[0m\n",
      "\u001b[1;32m~\\Desktop\\MzCloud_dataupload\\lib2.py\u001b[0m in \u001b[0;36mget_compound_table\u001b[1;34m(filters)\u001b[0m\n\u001b[0;32m     71\u001b[0m \u001b[1;31m# @debug\u001b[0m\u001b[1;33m\u001b[0m\u001b[1;33m\u001b[0m\u001b[1;33m\u001b[0m\u001b[0m\n\u001b[0;32m     72\u001b[0m \u001b[1;32mdef\u001b[0m \u001b[0mget_compound_table\u001b[0m\u001b[1;33m(\u001b[0m\u001b[0mfilters\u001b[0m\u001b[1;33m:\u001b[0m \u001b[0mList\u001b[0m\u001b[1;33m[\u001b[0m\u001b[0mstr\u001b[0m\u001b[1;33m]\u001b[0m\u001b[1;33m=\u001b[0m\u001b[1;32mNone\u001b[0m\u001b[1;33m)\u001b[0m \u001b[1;33m->\u001b[0m\u001b[0mpd\u001b[0m\u001b[1;33m.\u001b[0m\u001b[0mDataFrame\u001b[0m\u001b[1;33m:\u001b[0m\u001b[1;33m\u001b[0m\u001b[1;33m\u001b[0m\u001b[0m\n\u001b[1;32m---> 73\u001b[1;33m     \u001b[0mcompound_data\u001b[0m \u001b[1;33m=\u001b[0m \u001b[0mpd\u001b[0m\u001b[1;33m.\u001b[0m\u001b[0mread_excel\u001b[0m\u001b[1;33m(\u001b[0m\u001b[0mcompound_list\u001b[0m\u001b[1;33m)\u001b[0m\u001b[1;33m\u001b[0m\u001b[1;33m\u001b[0m\u001b[0m\n\u001b[0m\u001b[0;32m     74\u001b[0m     \u001b[1;32mif\u001b[0m \u001b[0mfilters\u001b[0m\u001b[1;33m:\u001b[0m\u001b[1;33m\u001b[0m\u001b[1;33m\u001b[0m\u001b[0m\n\u001b[0;32m     75\u001b[0m         \u001b[0mcompound_data\u001b[0m \u001b[1;33m=\u001b[0m \u001b[0mcompound_data\u001b[0m\u001b[1;33m.\u001b[0m\u001b[0mloc\u001b[0m\u001b[1;33m[\u001b[0m\u001b[0mcompound_data\u001b[0m\u001b[1;33m.\u001b[0m\u001b[0mID\u001b[0m\u001b[1;33m.\u001b[0m\u001b[0misin\u001b[0m\u001b[1;33m(\u001b[0m\u001b[0mfilters\u001b[0m\u001b[1;33m)\u001b[0m\u001b[1;33m]\u001b[0m\u001b[1;33m.\u001b[0m\u001b[0mcopy\u001b[0m\u001b[1;33m(\u001b[0m\u001b[1;33m)\u001b[0m\u001b[1;33m\u001b[0m\u001b[1;33m\u001b[0m\u001b[0m\n",
      "\u001b[1;32m~\\Miniconda3\\envs\\my-rdkit-env\\lib\\site-packages\\pandas\\util\\_decorators.py\u001b[0m in \u001b[0;36mwrapper\u001b[1;34m(*args, **kwargs)\u001b[0m\n\u001b[0;32m    309\u001b[0m                     \u001b[0mstacklevel\u001b[0m\u001b[1;33m=\u001b[0m\u001b[0mstacklevel\u001b[0m\u001b[1;33m,\u001b[0m\u001b[1;33m\u001b[0m\u001b[1;33m\u001b[0m\u001b[0m\n\u001b[0;32m    310\u001b[0m                 )\n\u001b[1;32m--> 311\u001b[1;33m             \u001b[1;32mreturn\u001b[0m \u001b[0mfunc\u001b[0m\u001b[1;33m(\u001b[0m\u001b[1;33m*\u001b[0m\u001b[0margs\u001b[0m\u001b[1;33m,\u001b[0m \u001b[1;33m**\u001b[0m\u001b[0mkwargs\u001b[0m\u001b[1;33m)\u001b[0m\u001b[1;33m\u001b[0m\u001b[1;33m\u001b[0m\u001b[0m\n\u001b[0m\u001b[0;32m    312\u001b[0m \u001b[1;33m\u001b[0m\u001b[0m\n\u001b[0;32m    313\u001b[0m         \u001b[1;32mreturn\u001b[0m \u001b[0mwrapper\u001b[0m\u001b[1;33m\u001b[0m\u001b[1;33m\u001b[0m\u001b[0m\n",
      "\u001b[1;32m~\\Miniconda3\\envs\\my-rdkit-env\\lib\\site-packages\\pandas\\io\\excel\\_base.py\u001b[0m in \u001b[0;36mread_excel\u001b[1;34m(io, sheet_name, header, names, index_col, usecols, squeeze, dtype, engine, converters, true_values, false_values, skiprows, nrows, na_values, keep_default_na, na_filter, verbose, parse_dates, date_parser, thousands, comment, skipfooter, convert_float, mangle_dupe_cols, storage_options)\u001b[0m\n\u001b[0;32m    362\u001b[0m     \u001b[1;32mif\u001b[0m \u001b[1;32mnot\u001b[0m \u001b[0misinstance\u001b[0m\u001b[1;33m(\u001b[0m\u001b[0mio\u001b[0m\u001b[1;33m,\u001b[0m \u001b[0mExcelFile\u001b[0m\u001b[1;33m)\u001b[0m\u001b[1;33m:\u001b[0m\u001b[1;33m\u001b[0m\u001b[1;33m\u001b[0m\u001b[0m\n\u001b[0;32m    363\u001b[0m         \u001b[0mshould_close\u001b[0m \u001b[1;33m=\u001b[0m \u001b[1;32mTrue\u001b[0m\u001b[1;33m\u001b[0m\u001b[1;33m\u001b[0m\u001b[0m\n\u001b[1;32m--> 364\u001b[1;33m         \u001b[0mio\u001b[0m \u001b[1;33m=\u001b[0m \u001b[0mExcelFile\u001b[0m\u001b[1;33m(\u001b[0m\u001b[0mio\u001b[0m\u001b[1;33m,\u001b[0m \u001b[0mstorage_options\u001b[0m\u001b[1;33m=\u001b[0m\u001b[0mstorage_options\u001b[0m\u001b[1;33m,\u001b[0m \u001b[0mengine\u001b[0m\u001b[1;33m=\u001b[0m\u001b[0mengine\u001b[0m\u001b[1;33m)\u001b[0m\u001b[1;33m\u001b[0m\u001b[1;33m\u001b[0m\u001b[0m\n\u001b[0m\u001b[0;32m    365\u001b[0m     \u001b[1;32melif\u001b[0m \u001b[0mengine\u001b[0m \u001b[1;32mand\u001b[0m \u001b[0mengine\u001b[0m \u001b[1;33m!=\u001b[0m \u001b[0mio\u001b[0m\u001b[1;33m.\u001b[0m\u001b[0mengine\u001b[0m\u001b[1;33m:\u001b[0m\u001b[1;33m\u001b[0m\u001b[1;33m\u001b[0m\u001b[0m\n\u001b[0;32m    366\u001b[0m         raise ValueError(\n",
      "\u001b[1;32m~\\Miniconda3\\envs\\my-rdkit-env\\lib\\site-packages\\pandas\\io\\excel\\_base.py\u001b[0m in \u001b[0;36m__init__\u001b[1;34m(self, path_or_buffer, engine, storage_options)\u001b[0m\n\u001b[0;32m   1190\u001b[0m             \u001b[1;32melse\u001b[0m\u001b[1;33m:\u001b[0m\u001b[1;33m\u001b[0m\u001b[1;33m\u001b[0m\u001b[0m\n\u001b[0;32m   1191\u001b[0m                 ext = inspect_excel_format(\n\u001b[1;32m-> 1192\u001b[1;33m                     \u001b[0mcontent_or_path\u001b[0m\u001b[1;33m=\u001b[0m\u001b[0mpath_or_buffer\u001b[0m\u001b[1;33m,\u001b[0m \u001b[0mstorage_options\u001b[0m\u001b[1;33m=\u001b[0m\u001b[0mstorage_options\u001b[0m\u001b[1;33m\u001b[0m\u001b[1;33m\u001b[0m\u001b[0m\n\u001b[0m\u001b[0;32m   1193\u001b[0m                 )\n\u001b[0;32m   1194\u001b[0m                 \u001b[1;32mif\u001b[0m \u001b[0mext\u001b[0m \u001b[1;32mis\u001b[0m \u001b[1;32mNone\u001b[0m\u001b[1;33m:\u001b[0m\u001b[1;33m\u001b[0m\u001b[1;33m\u001b[0m\u001b[0m\n",
      "\u001b[1;32m~\\Miniconda3\\envs\\my-rdkit-env\\lib\\site-packages\\pandas\\io\\excel\\_base.py\u001b[0m in \u001b[0;36minspect_excel_format\u001b[1;34m(content_or_path, storage_options)\u001b[0m\n\u001b[0;32m   1069\u001b[0m \u001b[1;33m\u001b[0m\u001b[0m\n\u001b[0;32m   1070\u001b[0m     with get_handle(\n\u001b[1;32m-> 1071\u001b[1;33m         \u001b[0mcontent_or_path\u001b[0m\u001b[1;33m,\u001b[0m \u001b[1;34m\"rb\"\u001b[0m\u001b[1;33m,\u001b[0m \u001b[0mstorage_options\u001b[0m\u001b[1;33m=\u001b[0m\u001b[0mstorage_options\u001b[0m\u001b[1;33m,\u001b[0m \u001b[0mis_text\u001b[0m\u001b[1;33m=\u001b[0m\u001b[1;32mFalse\u001b[0m\u001b[1;33m\u001b[0m\u001b[1;33m\u001b[0m\u001b[0m\n\u001b[0m\u001b[0;32m   1072\u001b[0m     ) as handle:\n\u001b[0;32m   1073\u001b[0m         \u001b[0mstream\u001b[0m \u001b[1;33m=\u001b[0m \u001b[0mhandle\u001b[0m\u001b[1;33m.\u001b[0m\u001b[0mhandle\u001b[0m\u001b[1;33m\u001b[0m\u001b[1;33m\u001b[0m\u001b[0m\n",
      "\u001b[1;32m~\\Miniconda3\\envs\\my-rdkit-env\\lib\\site-packages\\pandas\\io\\common.py\u001b[0m in \u001b[0;36mget_handle\u001b[1;34m(path_or_buf, mode, encoding, compression, memory_map, is_text, errors, storage_options)\u001b[0m\n\u001b[0;32m    709\u001b[0m         \u001b[1;32melse\u001b[0m\u001b[1;33m:\u001b[0m\u001b[1;33m\u001b[0m\u001b[1;33m\u001b[0m\u001b[0m\n\u001b[0;32m    710\u001b[0m             \u001b[1;31m# Binary mode\u001b[0m\u001b[1;33m\u001b[0m\u001b[1;33m\u001b[0m\u001b[1;33m\u001b[0m\u001b[0m\n\u001b[1;32m--> 711\u001b[1;33m             \u001b[0mhandle\u001b[0m \u001b[1;33m=\u001b[0m \u001b[0mopen\u001b[0m\u001b[1;33m(\u001b[0m\u001b[0mhandle\u001b[0m\u001b[1;33m,\u001b[0m \u001b[0mioargs\u001b[0m\u001b[1;33m.\u001b[0m\u001b[0mmode\u001b[0m\u001b[1;33m)\u001b[0m\u001b[1;33m\u001b[0m\u001b[1;33m\u001b[0m\u001b[0m\n\u001b[0m\u001b[0;32m    712\u001b[0m         \u001b[0mhandles\u001b[0m\u001b[1;33m.\u001b[0m\u001b[0mappend\u001b[0m\u001b[1;33m(\u001b[0m\u001b[0mhandle\u001b[0m\u001b[1;33m)\u001b[0m\u001b[1;33m\u001b[0m\u001b[1;33m\u001b[0m\u001b[0m\n\u001b[0;32m    713\u001b[0m \u001b[1;33m\u001b[0m\u001b[0m\n",
      "\u001b[1;31mFileNotFoundError\u001b[0m: [Errno 2] No such file or directory: 'unified_data.xlsx'"
     ]
    }
   ],
   "source": [
    "import lib2"
   ]
  },
  {
   "cell_type": "code",
   "execution_count": 1,
   "id": "32edac55",
   "metadata": {},
   "outputs": [
    {
     "data": {
      "application/vnd.jupyter.widget-view+json": {
       "model_id": "13a6cbf775b741dca55d446c15d855ca",
       "version_major": 2,
       "version_minor": 0
      },
      "text/plain": [
       "HBox(children=(VBox(children=(Dropdown(options=('---', 'AD215802-01', 'AD215802-02', 'AD215802-03', 'AD215802-…"
      ]
     },
     "metadata": {},
     "output_type": "display_data"
    },
    {
     "name": "stdout",
     "output_type": "stream",
     "text": [
      "file written\n"
     ]
    }
   ],
   "source": [
    "import lib2"
   ]
  },
  {
   "cell_type": "code",
   "execution_count": 1,
   "id": "09d46625",
   "metadata": {},
   "outputs": [
    {
     "data": {
      "application/vnd.jupyter.widget-view+json": {
       "model_id": "5a963937e9c74420bc26a987ad94a4fa",
       "version_major": 2,
       "version_minor": 0
      },
      "text/plain": [
       "HBox(children=(VBox(children=(Dropdown(options=('---', 'AD215802-01', 'AD215802-02', 'AD215802-03', 'AD215802-…"
      ]
     },
     "metadata": {},
     "output_type": "display_data"
    },
    {
     "name": "stdout",
     "output_type": "stream",
     "text": [
      "file written\n"
     ]
    },
    {
     "ename": "FileNotFoundError",
     "evalue": "[Errno 2] No such file or directory: 'unified_data.xlsx'",
     "output_type": "error",
     "traceback": [
      "\u001b[1;31m---------------------------------------------------------------------------\u001b[0m",
      "\u001b[1;31mFileNotFoundError\u001b[0m                         Traceback (most recent call last)",
      "\u001b[1;32m~\\Desktop\\MzCloud_dataupload\\lib2.py\u001b[0m in \u001b[0;36mprepare_data\u001b[1;34m(unused)\u001b[0m\n\u001b[0;32m    257\u001b[0m     \u001b[1;32mwith\u001b[0m \u001b[0mout1\u001b[0m\u001b[1;33m:\u001b[0m\u001b[1;33m\u001b[0m\u001b[1;33m\u001b[0m\u001b[0m\n\u001b[0;32m    258\u001b[0m         \u001b[0mprint\u001b[0m\u001b[1;33m(\u001b[0m\u001b[1;34m'---Running data collection---'\u001b[0m\u001b[1;33m)\u001b[0m\u001b[1;33m\u001b[0m\u001b[1;33m\u001b[0m\u001b[0m\n\u001b[1;32m--> 259\u001b[1;33m     \u001b[0mmain\u001b[0m\u001b[1;33m[\u001b[0m\u001b[1;34m'data'\u001b[0m\u001b[1;33m]\u001b[0m \u001b[1;33m=\u001b[0m \u001b[0mmake_data_frame\u001b[0m\u001b[1;33m(\u001b[0m\u001b[0mpath\u001b[0m\u001b[1;33m)\u001b[0m\u001b[1;33m\u001b[0m\u001b[1;33m\u001b[0m\u001b[0m\n\u001b[0m\u001b[0;32m    260\u001b[0m     \u001b[0mmols\u001b[0m \u001b[1;33m=\u001b[0m \u001b[0mget_mols\u001b[0m\u001b[1;33m(\u001b[0m\u001b[1;33m)\u001b[0m\u001b[1;33m\u001b[0m\u001b[1;33m\u001b[0m\u001b[0m\n\u001b[0;32m    261\u001b[0m     \u001b[0mmols\u001b[0m \u001b[1;33m=\u001b[0m \u001b[0mlist\u001b[0m\u001b[1;33m(\u001b[0m\u001b[0mmap\u001b[0m\u001b[1;33m(\u001b[0m\u001b[0mremove_salt\u001b[0m\u001b[1;33m,\u001b[0m \u001b[0mmols\u001b[0m\u001b[1;33m)\u001b[0m\u001b[1;33m)\u001b[0m\u001b[1;33m\u001b[0m\u001b[1;33m\u001b[0m\u001b[0m\n",
      "\u001b[1;32m~\\Desktop\\MzCloud_dataupload\\lib2.py\u001b[0m in \u001b[0;36mmake_data_frame\u001b[1;34m(target_path)\u001b[0m\n\u001b[0;32m    141\u001b[0m     \u001b[1;31m# act_cmp_ids = get_actual_compound_ids(act_cmp_paths)\u001b[0m\u001b[1;33m\u001b[0m\u001b[1;33m\u001b[0m\u001b[1;33m\u001b[0m\u001b[0m\n\u001b[0;32m    142\u001b[0m \u001b[1;33m\u001b[0m\u001b[0m\n\u001b[1;32m--> 143\u001b[1;33m     \u001b[0mdata_frame\u001b[0m \u001b[1;33m=\u001b[0m \u001b[0mget_compound_table\u001b[0m\u001b[1;33m(\u001b[0m\u001b[0mfilters\u001b[0m\u001b[1;33m=\u001b[0m\u001b[0mact_cmp_ids\u001b[0m\u001b[1;33m)\u001b[0m\u001b[1;33m\u001b[0m\u001b[1;33m\u001b[0m\u001b[0m\n\u001b[0m\u001b[0;32m    144\u001b[0m     \u001b[0mdata_frame\u001b[0m\u001b[1;33m[\u001b[0m\u001b[1;34m'to_drop'\u001b[0m\u001b[1;33m]\u001b[0m \u001b[1;33m=\u001b[0m \u001b[1;34m\"False\"\u001b[0m\u001b[1;33m\u001b[0m\u001b[1;33m\u001b[0m\u001b[0m\n\u001b[0;32m    145\u001b[0m     \u001b[0mdata_frame\u001b[0m\u001b[1;33m[\u001b[0m\u001b[1;34m'base_path'\u001b[0m\u001b[1;33m]\u001b[0m \u001b[1;33m=\u001b[0m \u001b[0mact_cmp_paths\u001b[0m\u001b[1;33m\u001b[0m\u001b[1;33m\u001b[0m\u001b[0m\n",
      "\u001b[1;32m~\\Desktop\\MzCloud_dataupload\\lib2.py\u001b[0m in \u001b[0;36mget_compound_table\u001b[1;34m(filters)\u001b[0m\n\u001b[0;32m     71\u001b[0m \u001b[1;31m# @debug\u001b[0m\u001b[1;33m\u001b[0m\u001b[1;33m\u001b[0m\u001b[1;33m\u001b[0m\u001b[0m\n\u001b[0;32m     72\u001b[0m \u001b[1;32mdef\u001b[0m \u001b[0mget_compound_table\u001b[0m\u001b[1;33m(\u001b[0m\u001b[0mfilters\u001b[0m\u001b[1;33m:\u001b[0m \u001b[0mList\u001b[0m\u001b[1;33m[\u001b[0m\u001b[0mstr\u001b[0m\u001b[1;33m]\u001b[0m\u001b[1;33m=\u001b[0m\u001b[1;32mNone\u001b[0m\u001b[1;33m)\u001b[0m \u001b[1;33m->\u001b[0m\u001b[0mpd\u001b[0m\u001b[1;33m.\u001b[0m\u001b[0mDataFrame\u001b[0m\u001b[1;33m:\u001b[0m\u001b[1;33m\u001b[0m\u001b[1;33m\u001b[0m\u001b[0m\n\u001b[1;32m---> 73\u001b[1;33m     \u001b[0mcompound_data\u001b[0m \u001b[1;33m=\u001b[0m \u001b[0mpd\u001b[0m\u001b[1;33m.\u001b[0m\u001b[0mread_excel\u001b[0m\u001b[1;33m(\u001b[0m\u001b[0mcompound_list\u001b[0m\u001b[1;33m)\u001b[0m\u001b[1;33m\u001b[0m\u001b[1;33m\u001b[0m\u001b[0m\n\u001b[0m\u001b[0;32m     74\u001b[0m     \u001b[1;32mif\u001b[0m \u001b[0mfilters\u001b[0m\u001b[1;33m:\u001b[0m\u001b[1;33m\u001b[0m\u001b[1;33m\u001b[0m\u001b[0m\n\u001b[0;32m     75\u001b[0m         \u001b[0mcompound_data\u001b[0m \u001b[1;33m=\u001b[0m \u001b[0mcompound_data\u001b[0m\u001b[1;33m.\u001b[0m\u001b[0mloc\u001b[0m\u001b[1;33m[\u001b[0m\u001b[0mcompound_data\u001b[0m\u001b[1;33m.\u001b[0m\u001b[0mID\u001b[0m\u001b[1;33m.\u001b[0m\u001b[0misin\u001b[0m\u001b[1;33m(\u001b[0m\u001b[0mfilters\u001b[0m\u001b[1;33m)\u001b[0m\u001b[1;33m]\u001b[0m\u001b[1;33m.\u001b[0m\u001b[0mcopy\u001b[0m\u001b[1;33m(\u001b[0m\u001b[1;33m)\u001b[0m\u001b[1;33m\u001b[0m\u001b[1;33m\u001b[0m\u001b[0m\n",
      "\u001b[1;32m~\\Miniconda3\\envs\\my-rdkit-env\\lib\\site-packages\\pandas\\util\\_decorators.py\u001b[0m in \u001b[0;36mwrapper\u001b[1;34m(*args, **kwargs)\u001b[0m\n\u001b[0;32m    309\u001b[0m                     \u001b[0mstacklevel\u001b[0m\u001b[1;33m=\u001b[0m\u001b[0mstacklevel\u001b[0m\u001b[1;33m,\u001b[0m\u001b[1;33m\u001b[0m\u001b[1;33m\u001b[0m\u001b[0m\n\u001b[0;32m    310\u001b[0m                 )\n\u001b[1;32m--> 311\u001b[1;33m             \u001b[1;32mreturn\u001b[0m \u001b[0mfunc\u001b[0m\u001b[1;33m(\u001b[0m\u001b[1;33m*\u001b[0m\u001b[0margs\u001b[0m\u001b[1;33m,\u001b[0m \u001b[1;33m**\u001b[0m\u001b[0mkwargs\u001b[0m\u001b[1;33m)\u001b[0m\u001b[1;33m\u001b[0m\u001b[1;33m\u001b[0m\u001b[0m\n\u001b[0m\u001b[0;32m    312\u001b[0m \u001b[1;33m\u001b[0m\u001b[0m\n\u001b[0;32m    313\u001b[0m         \u001b[1;32mreturn\u001b[0m \u001b[0mwrapper\u001b[0m\u001b[1;33m\u001b[0m\u001b[1;33m\u001b[0m\u001b[0m\n",
      "\u001b[1;32m~\\Miniconda3\\envs\\my-rdkit-env\\lib\\site-packages\\pandas\\io\\excel\\_base.py\u001b[0m in \u001b[0;36mread_excel\u001b[1;34m(io, sheet_name, header, names, index_col, usecols, squeeze, dtype, engine, converters, true_values, false_values, skiprows, nrows, na_values, keep_default_na, na_filter, verbose, parse_dates, date_parser, thousands, comment, skipfooter, convert_float, mangle_dupe_cols, storage_options)\u001b[0m\n\u001b[0;32m    362\u001b[0m     \u001b[1;32mif\u001b[0m \u001b[1;32mnot\u001b[0m \u001b[0misinstance\u001b[0m\u001b[1;33m(\u001b[0m\u001b[0mio\u001b[0m\u001b[1;33m,\u001b[0m \u001b[0mExcelFile\u001b[0m\u001b[1;33m)\u001b[0m\u001b[1;33m:\u001b[0m\u001b[1;33m\u001b[0m\u001b[1;33m\u001b[0m\u001b[0m\n\u001b[0;32m    363\u001b[0m         \u001b[0mshould_close\u001b[0m \u001b[1;33m=\u001b[0m \u001b[1;32mTrue\u001b[0m\u001b[1;33m\u001b[0m\u001b[1;33m\u001b[0m\u001b[0m\n\u001b[1;32m--> 364\u001b[1;33m         \u001b[0mio\u001b[0m \u001b[1;33m=\u001b[0m \u001b[0mExcelFile\u001b[0m\u001b[1;33m(\u001b[0m\u001b[0mio\u001b[0m\u001b[1;33m,\u001b[0m \u001b[0mstorage_options\u001b[0m\u001b[1;33m=\u001b[0m\u001b[0mstorage_options\u001b[0m\u001b[1;33m,\u001b[0m \u001b[0mengine\u001b[0m\u001b[1;33m=\u001b[0m\u001b[0mengine\u001b[0m\u001b[1;33m)\u001b[0m\u001b[1;33m\u001b[0m\u001b[1;33m\u001b[0m\u001b[0m\n\u001b[0m\u001b[0;32m    365\u001b[0m     \u001b[1;32melif\u001b[0m \u001b[0mengine\u001b[0m \u001b[1;32mand\u001b[0m \u001b[0mengine\u001b[0m \u001b[1;33m!=\u001b[0m \u001b[0mio\u001b[0m\u001b[1;33m.\u001b[0m\u001b[0mengine\u001b[0m\u001b[1;33m:\u001b[0m\u001b[1;33m\u001b[0m\u001b[1;33m\u001b[0m\u001b[0m\n\u001b[0;32m    366\u001b[0m         raise ValueError(\n",
      "\u001b[1;32m~\\Miniconda3\\envs\\my-rdkit-env\\lib\\site-packages\\pandas\\io\\excel\\_base.py\u001b[0m in \u001b[0;36m__init__\u001b[1;34m(self, path_or_buffer, engine, storage_options)\u001b[0m\n\u001b[0;32m   1190\u001b[0m             \u001b[1;32melse\u001b[0m\u001b[1;33m:\u001b[0m\u001b[1;33m\u001b[0m\u001b[1;33m\u001b[0m\u001b[0m\n\u001b[0;32m   1191\u001b[0m                 ext = inspect_excel_format(\n\u001b[1;32m-> 1192\u001b[1;33m                     \u001b[0mcontent_or_path\u001b[0m\u001b[1;33m=\u001b[0m\u001b[0mpath_or_buffer\u001b[0m\u001b[1;33m,\u001b[0m \u001b[0mstorage_options\u001b[0m\u001b[1;33m=\u001b[0m\u001b[0mstorage_options\u001b[0m\u001b[1;33m\u001b[0m\u001b[1;33m\u001b[0m\u001b[0m\n\u001b[0m\u001b[0;32m   1193\u001b[0m                 )\n\u001b[0;32m   1194\u001b[0m                 \u001b[1;32mif\u001b[0m \u001b[0mext\u001b[0m \u001b[1;32mis\u001b[0m \u001b[1;32mNone\u001b[0m\u001b[1;33m:\u001b[0m\u001b[1;33m\u001b[0m\u001b[1;33m\u001b[0m\u001b[0m\n",
      "\u001b[1;32m~\\Miniconda3\\envs\\my-rdkit-env\\lib\\site-packages\\pandas\\io\\excel\\_base.py\u001b[0m in \u001b[0;36minspect_excel_format\u001b[1;34m(content_or_path, storage_options)\u001b[0m\n\u001b[0;32m   1069\u001b[0m \u001b[1;33m\u001b[0m\u001b[0m\n\u001b[0;32m   1070\u001b[0m     with get_handle(\n\u001b[1;32m-> 1071\u001b[1;33m         \u001b[0mcontent_or_path\u001b[0m\u001b[1;33m,\u001b[0m \u001b[1;34m\"rb\"\u001b[0m\u001b[1;33m,\u001b[0m \u001b[0mstorage_options\u001b[0m\u001b[1;33m=\u001b[0m\u001b[0mstorage_options\u001b[0m\u001b[1;33m,\u001b[0m \u001b[0mis_text\u001b[0m\u001b[1;33m=\u001b[0m\u001b[1;32mFalse\u001b[0m\u001b[1;33m\u001b[0m\u001b[1;33m\u001b[0m\u001b[0m\n\u001b[0m\u001b[0;32m   1072\u001b[0m     ) as handle:\n\u001b[0;32m   1073\u001b[0m         \u001b[0mstream\u001b[0m \u001b[1;33m=\u001b[0m \u001b[0mhandle\u001b[0m\u001b[1;33m.\u001b[0m\u001b[0mhandle\u001b[0m\u001b[1;33m\u001b[0m\u001b[1;33m\u001b[0m\u001b[0m\n",
      "\u001b[1;32m~\\Miniconda3\\envs\\my-rdkit-env\\lib\\site-packages\\pandas\\io\\common.py\u001b[0m in \u001b[0;36mget_handle\u001b[1;34m(path_or_buf, mode, encoding, compression, memory_map, is_text, errors, storage_options)\u001b[0m\n\u001b[0;32m    709\u001b[0m         \u001b[1;32melse\u001b[0m\u001b[1;33m:\u001b[0m\u001b[1;33m\u001b[0m\u001b[1;33m\u001b[0m\u001b[0m\n\u001b[0;32m    710\u001b[0m             \u001b[1;31m# Binary mode\u001b[0m\u001b[1;33m\u001b[0m\u001b[1;33m\u001b[0m\u001b[1;33m\u001b[0m\u001b[0m\n\u001b[1;32m--> 711\u001b[1;33m             \u001b[0mhandle\u001b[0m \u001b[1;33m=\u001b[0m \u001b[0mopen\u001b[0m\u001b[1;33m(\u001b[0m\u001b[0mhandle\u001b[0m\u001b[1;33m,\u001b[0m \u001b[0mioargs\u001b[0m\u001b[1;33m.\u001b[0m\u001b[0mmode\u001b[0m\u001b[1;33m)\u001b[0m\u001b[1;33m\u001b[0m\u001b[1;33m\u001b[0m\u001b[0m\n\u001b[0m\u001b[0;32m    712\u001b[0m         \u001b[0mhandles\u001b[0m\u001b[1;33m.\u001b[0m\u001b[0mappend\u001b[0m\u001b[1;33m(\u001b[0m\u001b[0mhandle\u001b[0m\u001b[1;33m)\u001b[0m\u001b[1;33m\u001b[0m\u001b[1;33m\u001b[0m\u001b[0m\n\u001b[0;32m    713\u001b[0m \u001b[1;33m\u001b[0m\u001b[0m\n",
      "\u001b[1;31mFileNotFoundError\u001b[0m: [Errno 2] No such file or directory: 'unified_data.xlsx'"
     ]
    }
   ],
   "source": [
    "import lib2"
   ]
  },
  {
   "cell_type": "code",
   "execution_count": 1,
   "id": "1cabbbdc",
   "metadata": {},
   "outputs": [
    {
     "data": {
      "application/vnd.jupyter.widget-view+json": {
       "model_id": "1b1292104b8d490fa20f09028ecad4e3",
       "version_major": 2,
       "version_minor": 0
      },
      "text/plain": [
       "HBox(children=(VBox(children=(Dropdown(options=('---', 'AD215802-01', 'AD215802-02', 'AD215802-03', 'AD215802-…"
      ]
     },
     "metadata": {},
     "output_type": "display_data"
    },
    {
     "name": "stdout",
     "output_type": "stream",
     "text": [
      "file written\n"
     ]
    }
   ],
   "source": [
    "import lib2"
   ]
  },
  {
   "cell_type": "code",
   "execution_count": null,
   "id": "463410d2",
   "metadata": {},
   "outputs": [],
   "source": []
  },
  {
   "cell_type": "code",
   "execution_count": null,
   "id": "d320f325",
   "metadata": {},
   "outputs": [],
   "source": []
  }
 ],
 "metadata": {
  "kernelspec": {
   "display_name": "Python 3 (ipykernel)",
   "language": "python",
   "name": "python3"
  },
  "language_info": {
   "codemirror_mode": {
    "name": "ipython",
    "version": 3
   },
   "file_extension": ".py",
   "mimetype": "text/x-python",
   "name": "python",
   "nbconvert_exporter": "python",
   "pygments_lexer": "ipython3",
   "version": "3.7.11"
  }
 },
 "nbformat": 4,
 "nbformat_minor": 5
}
