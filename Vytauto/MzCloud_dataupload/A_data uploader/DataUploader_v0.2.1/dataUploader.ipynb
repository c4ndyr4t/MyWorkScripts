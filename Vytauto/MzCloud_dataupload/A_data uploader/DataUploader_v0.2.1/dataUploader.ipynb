{
 "cells": [
  {
   "cell_type": "markdown",
   "id": "3920104a",
   "metadata": {},
   "source": [
    "# Instructions\n",
    "\n",
    "- Upload compound masterlist file from shared location\n",
    "- Click read masterlist button\n",
    "- default locations:\n",
    "    - Vilnius: //ltvil-freenas5.thermofisher.lt/PTVG_Data/DATA/mzCloud/Data/Production/\n",
    "    - Austin:"
   ]
  },
  {
   "cell_type": "code",
   "execution_count": 1,
   "id": "56db271b",
   "metadata": {
    "scrolled": false
   },
   "outputs": [
    {
     "data": {
      "application/vnd.jupyter.widget-view+json": {
       "model_id": "df8d969dbf02491cb1a5a46967d53192",
       "version_major": 2,
       "version_minor": 0
      },
      "text/plain": [
       "HBox(children=(VBox(children=(FileUpload(value={}, description='UploadMasterList'), Button(description='ReadDa…"
      ]
     },
     "metadata": {},
     "output_type": "display_data"
    },
    {
     "data": {
      "application/vnd.jupyter.widget-view+json": {
       "model_id": "6838d675fdb94b71b74b843b724c93a5",
       "version_major": 2,
       "version_minor": 0
      },
      "text/plain": [
       "HBox(children=(VBox(children=(Dropdown(options=('----',), value='----'), Button(description='Prepare data', ic…"
      ]
     },
     "metadata": {},
     "output_type": "display_data"
    },
    {
     "ename": "UnboundLocalError",
     "evalue": "local variable 'con' referenced before assignment",
     "output_type": "error",
     "traceback": [
      "\u001b[1;31m---------------------------------------------------------------------------\u001b[0m",
      "\u001b[1;31mOperationalError\u001b[0m                          Traceback (most recent call last)",
      "\u001b[1;32m~\\OneDrive - Thermo Fisher Scientific\\Desktop\\MzCloud_dataupload\\A_data uploader\\DataUploader_v0.2.1\\lib.py\u001b[0m in \u001b[0;36mdb_connection\u001b[1;34m()\u001b[0m\n\u001b[0;32m     37\u001b[0m     \u001b[1;32mexcept\u001b[0m \u001b[0mException\u001b[0m \u001b[1;32mas\u001b[0m \u001b[0me\u001b[0m\u001b[1;33m:\u001b[0m\u001b[1;33m\u001b[0m\u001b[1;33m\u001b[0m\u001b[0m\n\u001b[1;32m---> 38\u001b[1;33m         \u001b[1;32mraise\u001b[0m \u001b[0me\u001b[0m\u001b[1;33m\u001b[0m\u001b[1;33m\u001b[0m\u001b[0m\n\u001b[0m\u001b[0;32m     39\u001b[0m     \u001b[1;32mfinally\u001b[0m\u001b[1;33m:\u001b[0m\u001b[1;33m\u001b[0m\u001b[1;33m\u001b[0m\u001b[0m\n",
      "\u001b[1;32m~\\OneDrive - Thermo Fisher Scientific\\Desktop\\MzCloud_dataupload\\A_data uploader\\DataUploader_v0.2.1\\lib.py\u001b[0m in \u001b[0;36mdb_connection\u001b[1;34m()\u001b[0m\n\u001b[0;32m     34\u001b[0m     \u001b[1;32mtry\u001b[0m\u001b[1;33m:\u001b[0m\u001b[1;33m\u001b[0m\u001b[1;33m\u001b[0m\u001b[0m\n\u001b[1;32m---> 35\u001b[1;33m         \u001b[0mcon\u001b[0m \u001b[1;33m=\u001b[0m \u001b[0msqlite3\u001b[0m\u001b[1;33m.\u001b[0m\u001b[0mconnect\u001b[0m\u001b[1;33m(\u001b[0m\u001b[0mdb_path\u001b[0m\u001b[1;33m)\u001b[0m\u001b[1;33m\u001b[0m\u001b[1;33m\u001b[0m\u001b[0m\n\u001b[0m\u001b[0;32m     36\u001b[0m         \u001b[1;32myield\u001b[0m \u001b[0mcon\u001b[0m\u001b[1;33m\u001b[0m\u001b[1;33m\u001b[0m\u001b[0m\n",
      "\u001b[1;31mOperationalError\u001b[0m: unable to open database file",
      "\nDuring handling of the above exception, another exception occurred:\n",
      "\u001b[1;31mUnboundLocalError\u001b[0m                         Traceback (most recent call last)",
      "\u001b[1;32m~\\OneDrive - Thermo Fisher Scientific\\Desktop\\MzCloud_dataupload\\A_data uploader\\DataUploader_v0.2.1\\lib.py\u001b[0m in \u001b[0;36mprepare_data_callback\u001b[1;34m(dummy)\u001b[0m\n\u001b[0;32m    306\u001b[0m     \u001b[0mapp\u001b[0m\u001b[1;33m.\u001b[0m\u001b[0mget_actual_compound_data_paths\u001b[0m\u001b[1;33m(\u001b[0m\u001b[0mplate_selector\u001b[0m\u001b[1;33m.\u001b[0m\u001b[0mvalue\u001b[0m\u001b[1;33m)\u001b[0m\u001b[1;33m\u001b[0m\u001b[1;33m\u001b[0m\u001b[0m\n\u001b[0;32m    307\u001b[0m     \u001b[0mapp\u001b[0m\u001b[1;33m.\u001b[0m\u001b[0mget_raw_files\u001b[0m\u001b[1;33m(\u001b[0m\u001b[1;33m)\u001b[0m\u001b[1;33m\u001b[0m\u001b[1;33m\u001b[0m\u001b[0m\n\u001b[1;32m--> 308\u001b[1;33m     \u001b[0mapp\u001b[0m\u001b[1;33m.\u001b[0m\u001b[0mget_structure_data\u001b[0m\u001b[1;33m(\u001b[0m\u001b[1;33m)\u001b[0m\u001b[1;33m\u001b[0m\u001b[1;33m\u001b[0m\u001b[0m\n\u001b[0m\u001b[0;32m    309\u001b[0m     \u001b[0mapp\u001b[0m\u001b[1;33m.\u001b[0m\u001b[0mget_compound_names\u001b[0m\u001b[1;33m(\u001b[0m\u001b[1;33m)\u001b[0m\u001b[1;33m\u001b[0m\u001b[1;33m\u001b[0m\u001b[0m\n\u001b[0;32m    310\u001b[0m     \u001b[0mapp\u001b[0m\u001b[1;33m.\u001b[0m\u001b[0mget_assigned_classes\u001b[0m\u001b[1;33m(\u001b[0m\u001b[1;33m)\u001b[0m\u001b[1;33m\u001b[0m\u001b[1;33m\u001b[0m\u001b[0m\n",
      "\u001b[1;32m~\\OneDrive - Thermo Fisher Scientific\\Desktop\\MzCloud_dataupload\\A_data uploader\\DataUploader_v0.2.1\\lib.py\u001b[0m in \u001b[0;36mget_structure_data\u001b[1;34m(self)\u001b[0m\n\u001b[0;32m    190\u001b[0m             \u001b[0mmol\u001b[0m \u001b[1;33m=\u001b[0m \u001b[1;34m''\u001b[0m\u001b[1;33m\u001b[0m\u001b[1;33m\u001b[0m\u001b[0m\n\u001b[0;32m    191\u001b[0m             \u001b[1;32mtry\u001b[0m\u001b[1;33m:\u001b[0m\u001b[1;33m\u001b[0m\u001b[1;33m\u001b[0m\u001b[0m\n\u001b[1;32m--> 192\u001b[1;33m                 \u001b[1;32mwith\u001b[0m \u001b[0mdb_connection\u001b[0m\u001b[1;33m(\u001b[0m\u001b[1;33m)\u001b[0m \u001b[1;32mas\u001b[0m \u001b[0mcon\u001b[0m\u001b[1;33m:\u001b[0m\u001b[1;33m\u001b[0m\u001b[1;33m\u001b[0m\u001b[0m\n\u001b[0m\u001b[0;32m    193\u001b[0m                     \u001b[0mmol_grabber\u001b[0m \u001b[1;33m=\u001b[0m \u001b[0mget_molString\u001b[0m\u001b[1;33m(\u001b[0m\u001b[0mcon\u001b[0m\u001b[1;33m)\u001b[0m\u001b[1;33m\u001b[0m\u001b[1;33m\u001b[0m\u001b[0m\n\u001b[0;32m    194\u001b[0m                     \u001b[0mmolstring\u001b[0m \u001b[1;33m=\u001b[0m \u001b[0mmol_grabber\u001b[0m\u001b[1;33m(\u001b[0m\u001b[0mitem\u001b[0m\u001b[1;33m)\u001b[0m\u001b[1;33m\u001b[0m\u001b[1;33m\u001b[0m\u001b[0m\n",
      "\u001b[1;32m~\\Miniconda3\\envs\\my-rdkit-env\\lib\\contextlib.py\u001b[0m in \u001b[0;36m__enter__\u001b[1;34m(self)\u001b[0m\n\u001b[0;32m    110\u001b[0m         \u001b[1;32mdel\u001b[0m \u001b[0mself\u001b[0m\u001b[1;33m.\u001b[0m\u001b[0margs\u001b[0m\u001b[1;33m,\u001b[0m \u001b[0mself\u001b[0m\u001b[1;33m.\u001b[0m\u001b[0mkwds\u001b[0m\u001b[1;33m,\u001b[0m \u001b[0mself\u001b[0m\u001b[1;33m.\u001b[0m\u001b[0mfunc\u001b[0m\u001b[1;33m\u001b[0m\u001b[1;33m\u001b[0m\u001b[0m\n\u001b[0;32m    111\u001b[0m         \u001b[1;32mtry\u001b[0m\u001b[1;33m:\u001b[0m\u001b[1;33m\u001b[0m\u001b[1;33m\u001b[0m\u001b[0m\n\u001b[1;32m--> 112\u001b[1;33m             \u001b[1;32mreturn\u001b[0m \u001b[0mnext\u001b[0m\u001b[1;33m(\u001b[0m\u001b[0mself\u001b[0m\u001b[1;33m.\u001b[0m\u001b[0mgen\u001b[0m\u001b[1;33m)\u001b[0m\u001b[1;33m\u001b[0m\u001b[1;33m\u001b[0m\u001b[0m\n\u001b[0m\u001b[0;32m    113\u001b[0m         \u001b[1;32mexcept\u001b[0m \u001b[0mStopIteration\u001b[0m\u001b[1;33m:\u001b[0m\u001b[1;33m\u001b[0m\u001b[1;33m\u001b[0m\u001b[0m\n\u001b[0;32m    114\u001b[0m             \u001b[1;32mraise\u001b[0m \u001b[0mRuntimeError\u001b[0m\u001b[1;33m(\u001b[0m\u001b[1;34m\"generator didn't yield\"\u001b[0m\u001b[1;33m)\u001b[0m \u001b[1;32mfrom\u001b[0m \u001b[1;32mNone\u001b[0m\u001b[1;33m\u001b[0m\u001b[1;33m\u001b[0m\u001b[0m\n",
      "\u001b[1;32m~\\OneDrive - Thermo Fisher Scientific\\Desktop\\MzCloud_dataupload\\A_data uploader\\DataUploader_v0.2.1\\lib.py\u001b[0m in \u001b[0;36mdb_connection\u001b[1;34m()\u001b[0m\n\u001b[0;32m     38\u001b[0m         \u001b[1;32mraise\u001b[0m \u001b[0me\u001b[0m\u001b[1;33m\u001b[0m\u001b[1;33m\u001b[0m\u001b[0m\n\u001b[0;32m     39\u001b[0m     \u001b[1;32mfinally\u001b[0m\u001b[1;33m:\u001b[0m\u001b[1;33m\u001b[0m\u001b[1;33m\u001b[0m\u001b[0m\n\u001b[1;32m---> 40\u001b[1;33m         \u001b[0mcon\u001b[0m\u001b[1;33m.\u001b[0m\u001b[0mclose\u001b[0m\u001b[1;33m(\u001b[0m\u001b[1;33m)\u001b[0m\u001b[1;33m\u001b[0m\u001b[1;33m\u001b[0m\u001b[0m\n\u001b[0m\u001b[0;32m     41\u001b[0m \u001b[1;33m\u001b[0m\u001b[0m\n\u001b[0;32m     42\u001b[0m \u001b[1;32mdef\u001b[0m \u001b[0mget_molString\u001b[0m\u001b[1;33m(\u001b[0m\u001b[0mcon\u001b[0m\u001b[1;33m)\u001b[0m\u001b[1;33m:\u001b[0m\u001b[1;33m\u001b[0m\u001b[1;33m\u001b[0m\u001b[0m\n",
      "\u001b[1;31mUnboundLocalError\u001b[0m: local variable 'con' referenced before assignment"
     ]
    },
    {
     "name": "stdout",
     "output_type": "stream",
     "text": [
      "'str' object has no attribute 'iterrows'\n"
     ]
    }
   ],
   "source": [
    "import lib"
   ]
  },
  {
   "cell_type": "code",
   "execution_count": 3,
   "id": "5746055a",
   "metadata": {},
   "outputs": [
    {
     "data": {
      "text/html": [
       "<div>\n",
       "<style scoped>\n",
       "    .dataframe tbody tr th:only-of-type {\n",
       "        vertical-align: middle;\n",
       "    }\n",
       "\n",
       "    .dataframe tbody tr th {\n",
       "        vertical-align: top;\n",
       "    }\n",
       "\n",
       "    .dataframe thead th {\n",
       "        text-align: right;\n",
       "    }\n",
       "</style>\n",
       "<table border=\"1\" class=\"dataframe\">\n",
       "  <thead>\n",
       "    <tr style=\"text-align: right;\">\n",
       "      <th></th>\n",
       "      <th>cID</th>\n",
       "      <th>name</th>\n",
       "      <th>iupac_name</th>\n",
       "    </tr>\n",
       "  </thead>\n",
       "  <tbody>\n",
       "    <tr>\n",
       "      <th>0</th>\n",
       "      <td>NP-000205</td>\n",
       "      <td>KOZGOKPCYLCJDK-UHFFFAOYSA-N</td>\n",
       "      <td>3-[5,7-dihydroxy-2-(4-hydroxyphenyl)-4-oxo-chr...</td>\n",
       "    </tr>\n",
       "    <tr>\n",
       "      <th>1</th>\n",
       "      <td>NP-000684</td>\n",
       "      <td>YJGVMLPVUAXIQN-UHFFFAOYSA-N</td>\n",
       "      <td>10-methyl-10-(4-methylpent-3-enyl)-11-(3-oxobu...</td>\n",
       "    </tr>\n",
       "    <tr>\n",
       "      <th>2</th>\n",
       "      <td>NP-000798</td>\n",
       "      <td>PLAPMLGJVGLZOV-UHFFFAOYSA-N</td>\n",
       "      <td>5-hydroxy-9-(3,4,5-trimethoxyphenyl)-5a,6,8a,9...</td>\n",
       "    </tr>\n",
       "    <tr>\n",
       "      <th>3</th>\n",
       "      <td>NP-000939</td>\n",
       "      <td>NFWKVWVWBFBAOV-IPNZSQQUSA-N</td>\n",
       "      <td>2-(3,4-dihydroxyphenyl)-5,7-dihydroxy-8-[3,4,5...</td>\n",
       "    </tr>\n",
       "    <tr>\n",
       "      <th>4</th>\n",
       "      <td>NP-002204</td>\n",
       "      <td>NFIQKUQYFSTGFU-DAUWJCTESA-N</td>\n",
       "      <td>rac-(1R,4aS)-7-isopropyl-1,4a-dimethyl-2,3,4,9...</td>\n",
       "    </tr>\n",
       "    <tr>\n",
       "      <th>...</th>\n",
       "      <td>...</td>\n",
       "      <td>...</td>\n",
       "      <td>...</td>\n",
       "    </tr>\n",
       "    <tr>\n",
       "      <th>75</th>\n",
       "      <td>NP-024837</td>\n",
       "      <td>RUBLIKRGQGISNL-UHFFFAOYSA-N</td>\n",
       "      <td>[rac-(3S,8R,9E,12R)-5-(hydroxymethyl)-10-methy...</td>\n",
       "    </tr>\n",
       "    <tr>\n",
       "      <th>76</th>\n",
       "      <td>NP-024872</td>\n",
       "      <td>XTYQZLHDXJNHMO-VQHVLOKHSA-N</td>\n",
       "      <td>2',3',4-trihydroxy-1',1',4'a,6'-tetramethyl-sp...</td>\n",
       "    </tr>\n",
       "    <tr>\n",
       "      <th>77</th>\n",
       "      <td>NP-024874</td>\n",
       "      <td>FMXUSNAWMLGDCZ-UHFFFAOYSA-N</td>\n",
       "      <td>(9E)-5,12-dihydroxy-16-isobutyl-4-methoxy-5,14...</td>\n",
       "    </tr>\n",
       "    <tr>\n",
       "      <th>78</th>\n",
       "      <td>NP-024897</td>\n",
       "      <td>AFONGXIPOGRCST-ONEGZZNKSA-N</td>\n",
       "      <td>4-[2-(1H-indol-3-yl)ethylamino]-4-oxo-butanoic...</td>\n",
       "    </tr>\n",
       "    <tr>\n",
       "      <th>79</th>\n",
       "      <td>NP-024940</td>\n",
       "      <td>TWLHPMIWLQNHPM-UHFFFAOYSA-N</td>\n",
       "      <td>6,8-dihydroxy-8a-methyl-5-[(E)-prop-1-enyl]-5,...</td>\n",
       "    </tr>\n",
       "  </tbody>\n",
       "</table>\n",
       "<p>80 rows × 3 columns</p>\n",
       "</div>"
      ],
      "text/plain": [
       "          cID                         name  \\\n",
       "0   NP-000205  KOZGOKPCYLCJDK-UHFFFAOYSA-N   \n",
       "1   NP-000684  YJGVMLPVUAXIQN-UHFFFAOYSA-N   \n",
       "2   NP-000798  PLAPMLGJVGLZOV-UHFFFAOYSA-N   \n",
       "3   NP-000939  NFWKVWVWBFBAOV-IPNZSQQUSA-N   \n",
       "4   NP-002204  NFIQKUQYFSTGFU-DAUWJCTESA-N   \n",
       "..        ...                          ...   \n",
       "75  NP-024837  RUBLIKRGQGISNL-UHFFFAOYSA-N   \n",
       "76  NP-024872  XTYQZLHDXJNHMO-VQHVLOKHSA-N   \n",
       "77  NP-024874  FMXUSNAWMLGDCZ-UHFFFAOYSA-N   \n",
       "78  NP-024897  AFONGXIPOGRCST-ONEGZZNKSA-N   \n",
       "79  NP-024940  TWLHPMIWLQNHPM-UHFFFAOYSA-N   \n",
       "\n",
       "                                           iupac_name  \n",
       "0   3-[5,7-dihydroxy-2-(4-hydroxyphenyl)-4-oxo-chr...  \n",
       "1   10-methyl-10-(4-methylpent-3-enyl)-11-(3-oxobu...  \n",
       "2   5-hydroxy-9-(3,4,5-trimethoxyphenyl)-5a,6,8a,9...  \n",
       "3   2-(3,4-dihydroxyphenyl)-5,7-dihydroxy-8-[3,4,5...  \n",
       "4   rac-(1R,4aS)-7-isopropyl-1,4a-dimethyl-2,3,4,9...  \n",
       "..                                                ...  \n",
       "75  [rac-(3S,8R,9E,12R)-5-(hydroxymethyl)-10-methy...  \n",
       "76  2',3',4-trihydroxy-1',1',4'a,6'-tetramethyl-sp...  \n",
       "77  (9E)-5,12-dihydroxy-16-isobutyl-4-methoxy-5,14...  \n",
       "78  4-[2-(1H-indol-3-yl)ethylamino]-4-oxo-butanoic...  \n",
       "79  6,8-dihydroxy-8a-methyl-5-[(E)-prop-1-enyl]-5,...  \n",
       "\n",
       "[80 rows x 3 columns]"
      ]
     },
     "execution_count": 3,
     "metadata": {},
     "output_type": "execute_result"
    }
   ],
   "source": [
    "lib.app.comp_names"
   ]
  },
  {
   "cell_type": "code",
   "execution_count": null,
   "id": "39d2949e",
   "metadata": {},
   "outputs": [],
   "source": []
  }
 ],
 "metadata": {
  "kernelspec": {
   "display_name": "Python 3 (ipykernel)",
   "language": "python",
   "name": "python3"
  },
  "language_info": {
   "codemirror_mode": {
    "name": "ipython",
    "version": 3
   },
   "file_extension": ".py",
   "mimetype": "text/x-python",
   "name": "python",
   "nbconvert_exporter": "python",
   "pygments_lexer": "ipython3",
   "version": "3.7.11"
  }
 },
 "nbformat": 4,
 "nbformat_minor": 5
}
