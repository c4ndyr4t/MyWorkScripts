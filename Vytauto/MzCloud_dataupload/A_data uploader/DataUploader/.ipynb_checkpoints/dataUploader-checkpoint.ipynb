{
 "cells": [
  {
   "cell_type": "markdown",
   "id": "3920104a",
   "metadata": {},
   "source": [
    "# Instructions\n",
    "\n",
    "- Upload compound masterlist file from shared location\n",
    "- Click read masterlist button\n",
    "- default locations:\n",
    "    - Vilnius: //ltvil-freenas5.thermofisher.lt/PTVG_Data/DATA/mzCloud/Data/Production/\n",
    "    - Austin:"
   ]
  },
  {
   "cell_type": "code",
   "execution_count": 1,
   "id": "56db271b",
   "metadata": {
    "scrolled": false
   },
   "outputs": [
    {
     "data": {
      "application/vnd.jupyter.widget-view+json": {
       "model_id": "ae71595692f54bd39fb64a07ec8f39b6",
       "version_major": 2,
       "version_minor": 0
      },
      "text/plain": [
       "HBox(children=(VBox(children=(FileUpload(value={}, description='UploadMasterList'), Button(description='ReadDa…"
      ]
     },
     "metadata": {},
     "output_type": "display_data"
    },
    {
     "data": {
      "application/vnd.jupyter.widget-view+json": {
       "model_id": "b9d896630ae44e3cb04c98170fd6c845",
       "version_major": 2,
       "version_minor": 0
      },
      "text/plain": [
       "HBox(children=(VBox(children=(Dropdown(options=('----',), value='----'), Button(description='Prepare data', ic…"
      ]
     },
     "metadata": {},
     "output_type": "display_data"
    }
   ],
   "source": [
    "import lib"
   ]
  },
  {
   "cell_type": "code",
   "execution_count": 3,
   "id": "fe6fe29b",
   "metadata": {},
   "outputs": [],
   "source": [
    "from rdkit.Chem.MolStandardize import rdMolStandardize"
   ]
  },
  {
   "cell_type": "code",
   "execution_count": 4,
   "id": "ef5c8405",
   "metadata": {},
   "outputs": [],
   "source": [
    "import inspect"
   ]
  },
  {
   "cell_type": "code",
   "execution_count": 8,
   "id": "d3c3af9a",
   "metadata": {},
   "outputs": [],
   "source": [
    "s = rdMolStandardize.Uncharger()"
   ]
  },
  {
   "cell_type": "code",
   "execution_count": 9,
   "id": "28841604",
   "metadata": {},
   "outputs": [
    {
     "data": {
      "text/plain": [
       "['__class__',\n",
       " '__delattr__',\n",
       " '__dict__',\n",
       " '__dir__',\n",
       " '__doc__',\n",
       " '__eq__',\n",
       " '__format__',\n",
       " '__ge__',\n",
       " '__getattribute__',\n",
       " '__gt__',\n",
       " '__hash__',\n",
       " '__init__',\n",
       " '__init_subclass__',\n",
       " '__instance_size__',\n",
       " '__le__',\n",
       " '__lt__',\n",
       " '__module__',\n",
       " '__ne__',\n",
       " '__new__',\n",
       " '__reduce__',\n",
       " '__reduce_ex__',\n",
       " '__repr__',\n",
       " '__setattr__',\n",
       " '__sizeof__',\n",
       " '__str__',\n",
       " '__subclasshook__',\n",
       " '__weakref__',\n",
       " 'uncharge']"
      ]
     },
     "execution_count": 9,
     "metadata": {},
     "output_type": "execute_result"
    }
   ],
   "source": [
    "dir(s)"
   ]
  },
  {
   "cell_type": "code",
   "execution_count": 11,
   "id": "ed94b3aa",
   "metadata": {},
   "outputs": [
    {
     "ename": "ArgumentError",
     "evalue": "Python argument types in\n    Uncharger.uncharge(Uncharger)\ndid not match C++ signature:\n    uncharge(class RDKit::MolStandardize::Uncharger {lvalue} self, class RDKit::ROMol mol)",
     "output_type": "error",
     "traceback": [
      "\u001b[1;31m---------------------------------------------------------------------------\u001b[0m",
      "\u001b[1;31mArgumentError\u001b[0m                             Traceback (most recent call last)",
      "Cell \u001b[1;32mIn[11], line 1\u001b[0m\n\u001b[1;32m----> 1\u001b[0m inspect\u001b[38;5;241m.\u001b[39mgetsource(\u001b[43ms\u001b[49m\u001b[38;5;241;43m.\u001b[39;49m\u001b[43muncharge\u001b[49m\u001b[43m(\u001b[49m\u001b[43m)\u001b[49m)\n",
      "\u001b[1;31mArgumentError\u001b[0m: Python argument types in\n    Uncharger.uncharge(Uncharger)\ndid not match C++ signature:\n    uncharge(class RDKit::MolStandardize::Uncharger {lvalue} self, class RDKit::ROMol mol)"
     ]
    }
   ],
   "source": [
    "inspect.getsource(s.uncharge())"
   ]
  },
  {
   "cell_type": "code",
   "execution_count": null,
   "id": "4c654056",
   "metadata": {},
   "outputs": [],
   "source": [
    "s.uncharge()"
   ]
  }
 ],
 "metadata": {
  "kernelspec": {
   "display_name": "Python 3 (ipykernel)",
   "language": "python",
   "name": "python3"
  },
  "language_info": {
   "codemirror_mode": {
    "name": "ipython",
    "version": 3
   },
   "file_extension": ".py",
   "mimetype": "text/x-python",
   "name": "python",
   "nbconvert_exporter": "python",
   "pygments_lexer": "ipython3",
   "version": "3.7.11"
  }
 },
 "nbformat": 4,
 "nbformat_minor": 5
}
