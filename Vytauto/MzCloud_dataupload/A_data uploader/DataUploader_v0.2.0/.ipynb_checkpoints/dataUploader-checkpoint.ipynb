{
 "cells": [
  {
   "cell_type": "markdown",
   "id": "3920104a",
   "metadata": {},
   "source": [
    "# Instructions\n",
    "\n",
    "- Upload compound masterlist file from shared location\n",
    "- Click read masterlist button\n",
    "- default locations:\n",
    "    - Vilnius: //ltvil-freenas5.thermofisher.lt/PTVG_Data/DATA/mzCloud/Data/Production/\n",
    "    - Austin:"
   ]
  },
  {
   "cell_type": "code",
   "execution_count": 1,
   "id": "56db271b",
   "metadata": {
    "scrolled": false
   },
   "outputs": [
    {
     "data": {
      "application/vnd.jupyter.widget-view+json": {
       "model_id": "95cfedaad49c48a9a0e2253792f19a36",
       "version_major": 2,
       "version_minor": 0
      },
      "text/plain": [
       "HBox(children=(VBox(children=(FileUpload(value={}, description='UploadMasterList'), Button(description='ReadDa…"
      ]
     },
     "metadata": {},
     "output_type": "display_data"
    },
    {
     "data": {
      "application/vnd.jupyter.widget-view+json": {
       "model_id": "79772a187508445fb63e8adbefa1dc8e",
       "version_major": 2,
       "version_minor": 0
      },
      "text/plain": [
       "HBox(children=(VBox(children=(Dropdown(options=('----',), value='----'), Button(description='Prepare data', ic…"
      ]
     },
     "metadata": {},
     "output_type": "display_data"
    }
   ],
   "source": [
    "import lib"
   ]
  },
  {
   "cell_type": "code",
   "execution_count": null,
   "id": "5746055a",
   "metadata": {},
   "outputs": [],
   "source": []
  }
 ],
 "metadata": {
  "kernelspec": {
   "display_name": "Python 3 (ipykernel)",
   "language": "python",
   "name": "python3"
  },
  "language_info": {
   "codemirror_mode": {
    "name": "ipython",
    "version": 3
   },
   "file_extension": ".py",
   "mimetype": "text/x-python",
   "name": "python",
   "nbconvert_exporter": "python",
   "pygments_lexer": "ipython3",
   "version": "3.7.11"
  }
 },
 "nbformat": 4,
 "nbformat_minor": 5
}
